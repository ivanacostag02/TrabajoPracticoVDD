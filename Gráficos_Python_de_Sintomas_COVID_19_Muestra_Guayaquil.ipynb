{
  "cells": [
    {
      "attachments": {},
      "cell_type": "markdown",
      "metadata": {
        "id": "VREFlAytRsUw"
      },
      "source": [
        "##**PASO 0: Verificacion de version de libreria NLTK**"
      ]
    },
    {
      "cell_type": "code",
      "execution_count": 260,
      "metadata": {
        "id": "2UXKmTgtR4tB"
      },
      "outputs": [],
      "source": [
        "import nltk"
      ]
    },
    {
      "cell_type": "code",
      "execution_count": 261,
      "metadata": {
        "colab": {
          "base_uri": "https://localhost:8080/",
          "height": 35
        },
        "id": "Ke1VXmEjMd4v",
        "outputId": "edccf88d-4b34-4742-df30-86ef3afb8e6d"
      },
      "outputs": [
        {
          "data": {
            "application/vnd.google.colaboratory.intrinsic+json": {
              "type": "string"
            },
            "text/plain": [
              "'3.8.1'"
            ]
          },
          "execution_count": 261,
          "metadata": {},
          "output_type": "execute_result"
        }
      ],
      "source": [
        "#la version 3.2.5 no ejecuta para tokenizar\n",
        "nltk.__version__"
      ]
    },
    {
      "attachments": {},
      "cell_type": "markdown",
      "metadata": {
        "id": "JAaGjAWMNdsk"
      },
      "source": [
        "se desintala la version 3.2.5 de la libreria nltk por la version 3.7 la cual si ayuda a ejecutar la tecnica de tokenizacion"
      ]
    },
    {
      "cell_type": "code",
      "execution_count": 262,
      "metadata": {
        "id": "eqBJiGVqMooF"
      },
      "outputs": [],
      "source": [
        "#!pip uninstall nltk"
      ]
    },
    {
      "cell_type": "code",
      "execution_count": 263,
      "metadata": {
        "id": "k19Fa_bWN1ss"
      },
      "outputs": [],
      "source": [
        "#!pip install -U nltk"
      ]
    },
    {
      "attachments": {},
      "cell_type": "markdown",
      "metadata": {
        "id": "NDAzBgQj1Y2f"
      },
      "source": [
        "##**PASO 1:** DEFINICION DE LIBRERIAS A UTILIZAR"
      ]
    },
    {
      "cell_type": "code",
      "execution_count": 264,
      "metadata": {
        "id": "CNr-HceW1XXL"
      },
      "outputs": [],
      "source": [
        "import pandas as pd\n",
        "import numpy as np\n",
        "import seaborn as sns\n",
        "import re\n",
        "import string\n",
        "import nltk\n",
        "import matplotlib.pyplot as plt\n"
      ]
    },
    {
      "cell_type": "code",
      "execution_count": 265,
      "metadata": {
        "colab": {
          "base_uri": "https://localhost:8080/",
          "height": 35
        },
        "id": "4OvlwqbOOsSX",
        "outputId": "e7870b60-0757-44e2-b5e7-2204d181cddc"
      },
      "outputs": [
        {
          "data": {
            "application/vnd.google.colaboratory.intrinsic+json": {
              "type": "string"
            },
            "text/plain": [
              "'3.8.1'"
            ]
          },
          "execution_count": 265,
          "metadata": {},
          "output_type": "execute_result"
        }
      ],
      "source": [
        "nltk.__version__"
      ]
    },
    {
      "cell_type": "code",
      "execution_count": 266,
      "metadata": {
        "id": "hamYgF4oaVlk"
      },
      "outputs": [],
      "source": [
        "#variables de evaluacion de modelo\n",
        "evaluacion_metricas  = pd.DataFrame()\n",
        "tam_batch_size = 0\n",
        "tam_epochs = 0\n",
        "tam_validation_split = 0.0"
      ]
    },
    {
      "attachments": {},
      "cell_type": "markdown",
      "metadata": {
        "id": "UanUojYLSKNV"
      },
      "source": [
        "##**PASO 2:** IMPORTACION DE DATASET RECOMENDACIONES"
      ]
    },
    {
      "cell_type": "code",
      "execution_count": 267,
      "metadata": {
        "colab": {
          "base_uri": "https://localhost:8080/",
          "height": 904
        },
        "id": "9WzZo7YzSOem",
        "outputId": "fbf61168-1562-428d-81a9-6c6109080cbe"
      },
      "outputs": [
        {
          "data": {
            "text/html": [
              "\n",
              "  <div id=\"df-755d798d-aef8-43de-83d1-fdfa3b09ef23\">\n",
              "    <div class=\"colab-df-container\">\n",
              "      <div>\n",
              "<style scoped>\n",
              "    .dataframe tbody tr th:only-of-type {\n",
              "        vertical-align: middle;\n",
              "    }\n",
              "\n",
              "    .dataframe tbody tr th {\n",
              "        vertical-align: top;\n",
              "    }\n",
              "\n",
              "    .dataframe thead th {\n",
              "        text-align: right;\n",
              "    }\n",
              "</style>\n",
              "<table border=\"1\" class=\"dataframe\">\n",
              "  <thead>\n",
              "    <tr style=\"text-align: right;\">\n",
              "      <th></th>\n",
              "      <th>No.</th>\n",
              "      <th>Fecha Encuesta</th>\n",
              "      <th>1. ¿Ciudad que reside?</th>\n",
              "      <th>2. Ha tenido coronavirus?</th>\n",
              "      <th>3. Seleccione la Edad</th>\n",
              "      <th>4. ¿Género?</th>\n",
              "      <th>5. ¿Qué variante del Virus lo contagio?</th>\n",
              "      <th>6. ¿Fecha de contagio?</th>\n",
              "      <th>7. ¿Intensidad de los sí­ntomas?</th>\n",
              "      <th>8. ¿Lugar de contagio?</th>\n",
              "      <th>...</th>\n",
              "      <th>Presión en el pecho</th>\n",
              "      <th>Problema circulatorio</th>\n",
              "      <th>Prurito</th>\n",
              "      <th>Resfriado</th>\n",
              "      <th>Sarpullido</th>\n",
              "      <th>Saturación baja al respirar</th>\n",
              "      <th>Sudoración excesiva</th>\n",
              "      <th>Taquicardia</th>\n",
              "      <th>Tos</th>\n",
              "      <th>Vómito</th>\n",
              "    </tr>\n",
              "  </thead>\n",
              "  <tbody>\n",
              "    <tr>\n",
              "      <th>0</th>\n",
              "      <td>1</td>\n",
              "      <td>2021-09-12 10:41:46</td>\n",
              "      <td>Guayaquil</td>\n",
              "      <td>Si</td>\n",
              "      <td>Entre 26 a 64 años</td>\n",
              "      <td>M</td>\n",
              "      <td>Alfa</td>\n",
              "      <td>2021-03-16 00:00:00</td>\n",
              "      <td>Fuerte</td>\n",
              "      <td>Trabajo</td>\n",
              "      <td>...</td>\n",
              "      <td>0</td>\n",
              "      <td>0</td>\n",
              "      <td>0</td>\n",
              "      <td>0</td>\n",
              "      <td>0</td>\n",
              "      <td>0</td>\n",
              "      <td>0</td>\n",
              "      <td>0</td>\n",
              "      <td>0</td>\n",
              "      <td>0</td>\n",
              "    </tr>\n",
              "    <tr>\n",
              "      <th>1</th>\n",
              "      <td>2</td>\n",
              "      <td>2021-09-12 14:21:34</td>\n",
              "      <td>Guayaquil</td>\n",
              "      <td>Si</td>\n",
              "      <td>Entre 26 a 64 años</td>\n",
              "      <td>F</td>\n",
              "      <td>Alfa</td>\n",
              "      <td>2020-03-12 00:00:00</td>\n",
              "      <td>Fuerte</td>\n",
              "      <td>OTRO</td>\n",
              "      <td>...</td>\n",
              "      <td>0</td>\n",
              "      <td>0</td>\n",
              "      <td>0</td>\n",
              "      <td>0</td>\n",
              "      <td>0</td>\n",
              "      <td>0</td>\n",
              "      <td>0</td>\n",
              "      <td>0</td>\n",
              "      <td>0</td>\n",
              "      <td>0</td>\n",
              "    </tr>\n",
              "    <tr>\n",
              "      <th>2</th>\n",
              "      <td>3</td>\n",
              "      <td>2021-09-12 16:21:57</td>\n",
              "      <td>Guayaquil</td>\n",
              "      <td>Si</td>\n",
              "      <td>Entre 18 a 25 años</td>\n",
              "      <td>F</td>\n",
              "      <td>No Sabe</td>\n",
              "      <td>2020-03-19 00:00:00</td>\n",
              "      <td>Leve</td>\n",
              "      <td>Medio de Trasporte</td>\n",
              "      <td>...</td>\n",
              "      <td>0</td>\n",
              "      <td>0</td>\n",
              "      <td>0</td>\n",
              "      <td>0</td>\n",
              "      <td>0</td>\n",
              "      <td>0</td>\n",
              "      <td>0</td>\n",
              "      <td>0</td>\n",
              "      <td>1</td>\n",
              "      <td>0</td>\n",
              "    </tr>\n",
              "    <tr>\n",
              "      <th>3</th>\n",
              "      <td>4</td>\n",
              "      <td>2021-09-12 16:25:21</td>\n",
              "      <td>Guayaquil</td>\n",
              "      <td>Si</td>\n",
              "      <td>Entre 26 a 64 años</td>\n",
              "      <td>M</td>\n",
              "      <td>Delta</td>\n",
              "      <td>2020-10-16 00:00:00</td>\n",
              "      <td>Leve</td>\n",
              "      <td>Fiesta</td>\n",
              "      <td>...</td>\n",
              "      <td>0</td>\n",
              "      <td>0</td>\n",
              "      <td>0</td>\n",
              "      <td>0</td>\n",
              "      <td>0</td>\n",
              "      <td>0</td>\n",
              "      <td>0</td>\n",
              "      <td>0</td>\n",
              "      <td>0</td>\n",
              "      <td>0</td>\n",
              "    </tr>\n",
              "    <tr>\n",
              "      <th>4</th>\n",
              "      <td>5</td>\n",
              "      <td>2021-09-12 20:58:02</td>\n",
              "      <td>Guayaquil</td>\n",
              "      <td>Si</td>\n",
              "      <td>Entre 26 a 64 años</td>\n",
              "      <td>F</td>\n",
              "      <td>No Sabe</td>\n",
              "      <td>2020-03-30 00:00:00</td>\n",
              "      <td>Medio</td>\n",
              "      <td>Medio de Trasporte</td>\n",
              "      <td>...</td>\n",
              "      <td>0</td>\n",
              "      <td>0</td>\n",
              "      <td>0</td>\n",
              "      <td>0</td>\n",
              "      <td>0</td>\n",
              "      <td>0</td>\n",
              "      <td>0</td>\n",
              "      <td>0</td>\n",
              "      <td>1</td>\n",
              "      <td>0</td>\n",
              "    </tr>\n",
              "    <tr>\n",
              "      <th>...</th>\n",
              "      <td>...</td>\n",
              "      <td>...</td>\n",
              "      <td>...</td>\n",
              "      <td>...</td>\n",
              "      <td>...</td>\n",
              "      <td>...</td>\n",
              "      <td>...</td>\n",
              "      <td>...</td>\n",
              "      <td>...</td>\n",
              "      <td>...</td>\n",
              "      <td>...</td>\n",
              "      <td>...</td>\n",
              "      <td>...</td>\n",
              "      <td>...</td>\n",
              "      <td>...</td>\n",
              "      <td>...</td>\n",
              "      <td>...</td>\n",
              "      <td>...</td>\n",
              "      <td>...</td>\n",
              "      <td>...</td>\n",
              "      <td>...</td>\n",
              "    </tr>\n",
              "    <tr>\n",
              "      <th>2868</th>\n",
              "      <td>2869</td>\n",
              "      <td>12/23/2021 23:28:08</td>\n",
              "      <td>Guayaquil</td>\n",
              "      <td>Si</td>\n",
              "      <td>Entre 18 a 25 años</td>\n",
              "      <td>F</td>\n",
              "      <td>Alfa</td>\n",
              "      <td>2021-02-12 00:00:00</td>\n",
              "      <td>Leve</td>\n",
              "      <td>Medio de Trasporte</td>\n",
              "      <td>...</td>\n",
              "      <td>0</td>\n",
              "      <td>0</td>\n",
              "      <td>0</td>\n",
              "      <td>0</td>\n",
              "      <td>0</td>\n",
              "      <td>0</td>\n",
              "      <td>0</td>\n",
              "      <td>0</td>\n",
              "      <td>0</td>\n",
              "      <td>0</td>\n",
              "    </tr>\n",
              "    <tr>\n",
              "      <th>2869</th>\n",
              "      <td>2870</td>\n",
              "      <td>12/23/2021 23:28:15</td>\n",
              "      <td>Guayaquil</td>\n",
              "      <td>Si</td>\n",
              "      <td>Entre 26 a 64 años</td>\n",
              "      <td>M</td>\n",
              "      <td>Delta</td>\n",
              "      <td>2021-03-22 00:00:00</td>\n",
              "      <td>Medio</td>\n",
              "      <td>Trabajo</td>\n",
              "      <td>...</td>\n",
              "      <td>0</td>\n",
              "      <td>0</td>\n",
              "      <td>0</td>\n",
              "      <td>0</td>\n",
              "      <td>0</td>\n",
              "      <td>0</td>\n",
              "      <td>0</td>\n",
              "      <td>0</td>\n",
              "      <td>0</td>\n",
              "      <td>0</td>\n",
              "    </tr>\n",
              "    <tr>\n",
              "      <th>2870</th>\n",
              "      <td>2871</td>\n",
              "      <td>12/23/2021 23:31:59</td>\n",
              "      <td>Guayaquil</td>\n",
              "      <td>Si</td>\n",
              "      <td>Entre 26 a 64 años</td>\n",
              "      <td>M</td>\n",
              "      <td>Alfa</td>\n",
              "      <td>2020-08-01 00:00:00</td>\n",
              "      <td>Sin Sintomas</td>\n",
              "      <td>Trabajo</td>\n",
              "      <td>...</td>\n",
              "      <td>0</td>\n",
              "      <td>0</td>\n",
              "      <td>0</td>\n",
              "      <td>0</td>\n",
              "      <td>0</td>\n",
              "      <td>0</td>\n",
              "      <td>0</td>\n",
              "      <td>0</td>\n",
              "      <td>0</td>\n",
              "      <td>0</td>\n",
              "    </tr>\n",
              "    <tr>\n",
              "      <th>2871</th>\n",
              "      <td>2872</td>\n",
              "      <td>12/23/2021 23:36:07</td>\n",
              "      <td>Guayaquil</td>\n",
              "      <td>Si</td>\n",
              "      <td>Entre 18 a 25 años</td>\n",
              "      <td>F</td>\n",
              "      <td>No Sabe</td>\n",
              "      <td>2020-06-12 00:00:00</td>\n",
              "      <td>Sin Sintomas</td>\n",
              "      <td>Medio de Trasporte</td>\n",
              "      <td>...</td>\n",
              "      <td>0</td>\n",
              "      <td>0</td>\n",
              "      <td>0</td>\n",
              "      <td>0</td>\n",
              "      <td>0</td>\n",
              "      <td>0</td>\n",
              "      <td>0</td>\n",
              "      <td>0</td>\n",
              "      <td>0</td>\n",
              "      <td>0</td>\n",
              "    </tr>\n",
              "    <tr>\n",
              "      <th>2872</th>\n",
              "      <td>2873</td>\n",
              "      <td>12/23/2021 23:52:27</td>\n",
              "      <td>Guayaquil</td>\n",
              "      <td>Si</td>\n",
              "      <td>Entre 18 a 25 años</td>\n",
              "      <td>F</td>\n",
              "      <td>No Sabe</td>\n",
              "      <td>2021-07-08 00:00:00</td>\n",
              "      <td>Medio</td>\n",
              "      <td>Medio de Trasporte</td>\n",
              "      <td>...</td>\n",
              "      <td>0</td>\n",
              "      <td>0</td>\n",
              "      <td>0</td>\n",
              "      <td>0</td>\n",
              "      <td>0</td>\n",
              "      <td>0</td>\n",
              "      <td>0</td>\n",
              "      <td>0</td>\n",
              "      <td>0</td>\n",
              "      <td>0</td>\n",
              "    </tr>\n",
              "  </tbody>\n",
              "</table>\n",
              "<p>2873 rows × 72 columns</p>\n",
              "</div>\n",
              "      <button class=\"colab-df-convert\" onclick=\"convertToInteractive('df-755d798d-aef8-43de-83d1-fdfa3b09ef23')\"\n",
              "              title=\"Convert this dataframe to an interactive table.\"\n",
              "              style=\"display:none;\">\n",
              "        \n",
              "  <svg xmlns=\"http://www.w3.org/2000/svg\" height=\"24px\"viewBox=\"0 0 24 24\"\n",
              "       width=\"24px\">\n",
              "    <path d=\"M0 0h24v24H0V0z\" fill=\"none\"/>\n",
              "    <path d=\"M18.56 5.44l.94 2.06.94-2.06 2.06-.94-2.06-.94-.94-2.06-.94 2.06-2.06.94zm-11 1L8.5 8.5l.94-2.06 2.06-.94-2.06-.94L8.5 2.5l-.94 2.06-2.06.94zm10 10l.94 2.06.94-2.06 2.06-.94-2.06-.94-.94-2.06-.94 2.06-2.06.94z\"/><path d=\"M17.41 7.96l-1.37-1.37c-.4-.4-.92-.59-1.43-.59-.52 0-1.04.2-1.43.59L10.3 9.45l-7.72 7.72c-.78.78-.78 2.05 0 2.83L4 21.41c.39.39.9.59 1.41.59.51 0 1.02-.2 1.41-.59l7.78-7.78 2.81-2.81c.8-.78.8-2.07 0-2.86zM5.41 20L4 18.59l7.72-7.72 1.47 1.35L5.41 20z\"/>\n",
              "  </svg>\n",
              "      </button>\n",
              "      \n",
              "  <style>\n",
              "    .colab-df-container {\n",
              "      display:flex;\n",
              "      flex-wrap:wrap;\n",
              "      gap: 12px;\n",
              "    }\n",
              "\n",
              "    .colab-df-convert {\n",
              "      background-color: #E8F0FE;\n",
              "      border: none;\n",
              "      border-radius: 50%;\n",
              "      cursor: pointer;\n",
              "      display: none;\n",
              "      fill: #1967D2;\n",
              "      height: 32px;\n",
              "      padding: 0 0 0 0;\n",
              "      width: 32px;\n",
              "    }\n",
              "\n",
              "    .colab-df-convert:hover {\n",
              "      background-color: #E2EBFA;\n",
              "      box-shadow: 0px 1px 2px rgba(60, 64, 67, 0.3), 0px 1px 3px 1px rgba(60, 64, 67, 0.15);\n",
              "      fill: #174EA6;\n",
              "    }\n",
              "\n",
              "    [theme=dark] .colab-df-convert {\n",
              "      background-color: #3B4455;\n",
              "      fill: #D2E3FC;\n",
              "    }\n",
              "\n",
              "    [theme=dark] .colab-df-convert:hover {\n",
              "      background-color: #434B5C;\n",
              "      box-shadow: 0px 1px 3px 1px rgba(0, 0, 0, 0.15);\n",
              "      filter: drop-shadow(0px 1px 2px rgba(0, 0, 0, 0.3));\n",
              "      fill: #FFFFFF;\n",
              "    }\n",
              "  </style>\n",
              "\n",
              "      <script>\n",
              "        const buttonEl =\n",
              "          document.querySelector('#df-755d798d-aef8-43de-83d1-fdfa3b09ef23 button.colab-df-convert');\n",
              "        buttonEl.style.display =\n",
              "          google.colab.kernel.accessAllowed ? 'block' : 'none';\n",
              "\n",
              "        async function convertToInteractive(key) {\n",
              "          const element = document.querySelector('#df-755d798d-aef8-43de-83d1-fdfa3b09ef23');\n",
              "          const dataTable =\n",
              "            await google.colab.kernel.invokeFunction('convertToInteractive',\n",
              "                                                     [key], {});\n",
              "          if (!dataTable) return;\n",
              "\n",
              "          const docLinkHtml = 'Like what you see? Visit the ' +\n",
              "            '<a target=\"_blank\" href=https://colab.research.google.com/notebooks/data_table.ipynb>data table notebook</a>'\n",
              "            + ' to learn more about interactive tables.';\n",
              "          element.innerHTML = '';\n",
              "          dataTable['output_type'] = 'display_data';\n",
              "          await google.colab.output.renderOutput(dataTable, element);\n",
              "          const docLink = document.createElement('div');\n",
              "          docLink.innerHTML = docLinkHtml;\n",
              "          element.appendChild(docLink);\n",
              "        }\n",
              "      </script>\n",
              "    </div>\n",
              "  </div>\n",
              "  "
            ],
            "text/plain": [
              "       No.       Fecha Encuesta 1. ¿Ciudad que reside?  \\\n",
              "0        1  2021-09-12 10:41:46              Guayaquil   \n",
              "1        2  2021-09-12 14:21:34              Guayaquil   \n",
              "2        3  2021-09-12 16:21:57              Guayaquil   \n",
              "3        4  2021-09-12 16:25:21              Guayaquil   \n",
              "4        5  2021-09-12 20:58:02              Guayaquil   \n",
              "...    ...                  ...                    ...   \n",
              "2868  2869  12/23/2021 23:28:08              Guayaquil   \n",
              "2869  2870  12/23/2021 23:28:15              Guayaquil   \n",
              "2870  2871  12/23/2021 23:31:59              Guayaquil   \n",
              "2871  2872  12/23/2021 23:36:07              Guayaquil   \n",
              "2872  2873  12/23/2021 23:52:27              Guayaquil   \n",
              "\n",
              "     2. Ha tenido coronavirus? 3. Seleccione la Edad 4. ¿Género?  \\\n",
              "0                           Si    Entre 26 a 64 años           M   \n",
              "1                           Si    Entre 26 a 64 años           F   \n",
              "2                           Si    Entre 18 a 25 años           F   \n",
              "3                           Si    Entre 26 a 64 años           M   \n",
              "4                           Si    Entre 26 a 64 años           F   \n",
              "...                        ...                   ...         ...   \n",
              "2868                        Si    Entre 18 a 25 años           F   \n",
              "2869                        Si    Entre 26 a 64 años           M   \n",
              "2870                        Si    Entre 26 a 64 años           M   \n",
              "2871                        Si    Entre 18 a 25 años           F   \n",
              "2872                        Si    Entre 18 a 25 años           F   \n",
              "\n",
              "     5. ¿Qué variante del Virus lo contagio? 6. ¿Fecha de contagio?  \\\n",
              "0                                       Alfa    2021-03-16 00:00:00   \n",
              "1                                       Alfa    2020-03-12 00:00:00   \n",
              "2                                    No Sabe    2020-03-19 00:00:00   \n",
              "3                                      Delta    2020-10-16 00:00:00   \n",
              "4                                    No Sabe    2020-03-30 00:00:00   \n",
              "...                                      ...                    ...   \n",
              "2868                                    Alfa    2021-02-12 00:00:00   \n",
              "2869                                   Delta    2021-03-22 00:00:00   \n",
              "2870                                    Alfa    2020-08-01 00:00:00   \n",
              "2871                                 No Sabe    2020-06-12 00:00:00   \n",
              "2872                                 No Sabe    2021-07-08 00:00:00   \n",
              "\n",
              "     7. ¿Intensidad de los sí­ntomas? 8. ¿Lugar de contagio?  ...  \\\n",
              "0                              Fuerte                Trabajo  ...   \n",
              "1                              Fuerte                   OTRO  ...   \n",
              "2                                Leve     Medio de Trasporte  ...   \n",
              "3                                Leve                 Fiesta  ...   \n",
              "4                               Medio     Medio de Trasporte  ...   \n",
              "...                               ...                    ...  ...   \n",
              "2868                             Leve     Medio de Trasporte  ...   \n",
              "2869                            Medio                Trabajo  ...   \n",
              "2870                     Sin Sintomas                Trabajo  ...   \n",
              "2871                     Sin Sintomas     Medio de Trasporte  ...   \n",
              "2872                            Medio     Medio de Trasporte  ...   \n",
              "\n",
              "      Presión en el pecho Problema circulatorio Prurito  Resfriado  \\\n",
              "0                       0                     0       0          0   \n",
              "1                       0                     0       0          0   \n",
              "2                       0                     0       0          0   \n",
              "3                       0                     0       0          0   \n",
              "4                       0                     0       0          0   \n",
              "...                   ...                   ...     ...        ...   \n",
              "2868                    0                     0       0          0   \n",
              "2869                    0                     0       0          0   \n",
              "2870                    0                     0       0          0   \n",
              "2871                    0                     0       0          0   \n",
              "2872                    0                     0       0          0   \n",
              "\n",
              "      Sarpullido  Saturación baja al respirar  Sudoración excesiva  \\\n",
              "0              0                            0                    0   \n",
              "1              0                            0                    0   \n",
              "2              0                            0                    0   \n",
              "3              0                            0                    0   \n",
              "4              0                            0                    0   \n",
              "...          ...                          ...                  ...   \n",
              "2868           0                            0                    0   \n",
              "2869           0                            0                    0   \n",
              "2870           0                            0                    0   \n",
              "2871           0                            0                    0   \n",
              "2872           0                            0                    0   \n",
              "\n",
              "      Taquicardia  Tos  Vómito  \n",
              "0               0    0       0  \n",
              "1               0    0       0  \n",
              "2               0    1       0  \n",
              "3               0    0       0  \n",
              "4               0    1       0  \n",
              "...           ...  ...     ...  \n",
              "2868            0    0       0  \n",
              "2869            0    0       0  \n",
              "2870            0    0       0  \n",
              "2871            0    0       0  \n",
              "2872            0    0       0  \n",
              "\n",
              "[2873 rows x 72 columns]"
            ]
          },
          "execution_count": 267,
          "metadata": {},
          "output_type": "execute_result"
        }
      ],
      "source": [
        "#Importacion de Dataset sintomas\n",
        "df_Síntomas  = pd.read_excel(\"CORPUS_SINTOMAS_GYE_COVID19_DE_2020_A_2021.xlsx\")\n",
        "df_Síntomas"
      ]
    },
    {
      "attachments": {},
      "cell_type": "markdown",
      "metadata": {
        "id": "82Oopx7XSZlS"
      },
      "source": [
        "##**PASO 3:** EXPLORACION DE DATOS QUE CONTIENE LA DATASET"
      ]
    },
    {
      "cell_type": "code",
      "execution_count": 268,
      "metadata": {
        "colab": {
          "base_uri": "https://localhost:8080/"
        },
        "id": "syRbs_KnSV03",
        "outputId": "744ad5f0-aaf2-48a9-eb3a-6c62ad5fb137"
      },
      "outputs": [
        {
          "name": "stdout",
          "output_type": "stream",
          "text": [
            "<class 'pandas.core.frame.DataFrame'>\n",
            "RangeIndex: 2873 entries, 0 to 2872\n",
            "Data columns (total 72 columns):\n",
            " #   Column                                                   Non-Null Count  Dtype \n",
            "---  ------                                                   --------------  ----- \n",
            " 0   No.                                                      2873 non-null   int64 \n",
            " 1   Fecha Encuesta                                           2873 non-null   object\n",
            " 2   1. ¿Ciudad que reside?                                   2873 non-null   object\n",
            " 3   2. Ha tenido coronavirus?                                2873 non-null   object\n",
            " 4   3. Seleccione la Edad                                    2873 non-null   object\n",
            " 5   4. ¿Género?                                              2873 non-null   object\n",
            " 6   5. ¿Qué variante del Virus lo contagio?                  2873 non-null   object\n",
            " 7   6. ¿Fecha de contagio?                                   2873 non-null   object\n",
            " 8   7. ¿Intensidad de los sí­ntomas?                         2873 non-null   object\n",
            " 9   8. ¿Lugar de contagio?                                   2873 non-null   object\n",
            " 10  9. ¿Cuantas dosis tenia aplicadas previo a contagiarse?  2873 non-null   int64 \n",
            " 11  10. ¿Qué vacuna recibió, previo a contagiarse?           2873 non-null   object\n",
            " 12  11. ¿Qué síntomas tuvo?                                  2873 non-null   object\n",
            " 13  Afectación psicológica                                   2873 non-null   int64 \n",
            " 14  Alergia                                                  2873 non-null   int64 \n",
            " 15  Alucinación                                              2873 non-null   int64 \n",
            " 16  Amigdalitis                                              2873 non-null   int64 \n",
            " 17  Arritmia                                                 2873 non-null   int64 \n",
            " 18  Asintomatismo                                            2873 non-null   int64 \n",
            " 19  Colitis                                                  2873 non-null   int64 \n",
            " 20  Congestión nasal                                         2873 non-null   int64 \n",
            " 21  Conjuntivitis                                            2873 non-null   int64 \n",
            " 22  Convulsión                                               2873 non-null   int64 \n",
            " 23  Desmayo                                                  2873 non-null   int64 \n",
            " 24  Diarrea                                                  2873 non-null   int64 \n",
            " 25  Dificultad al hablar                                     2873 non-null   int64 \n",
            " 26  Dificultad para moverse                                  2873 non-null   int64 \n",
            " 27  Dificultad para Respirar                                 2873 non-null   int64 \n",
            " 28  Disgeusia                                                2873 non-null   int64 \n",
            " 29  Dolor articular                                          2873 non-null   int64 \n",
            " 30  Dolor de cabeza                                          2873 non-null   int64 \n",
            " 31  Dolor de encías                                          2873 non-null   int64 \n",
            " 32  Dolor de espalda                                         2873 non-null   int64 \n",
            " 33  Dolor de estómago                                        2873 non-null   int64 \n",
            " 34  Dolor de garganta                                        2873 non-null   int64 \n",
            " 35  Dolor de huesos                                          2873 non-null   int64 \n",
            " 36  Dolor en extremidades                                    2873 non-null   int64 \n",
            " 37  Dolor muscular                                           2873 non-null   int64 \n",
            " 38  Dolor ocular                                             2873 non-null   int64 \n",
            " 39  Dolor renal                                              2873 non-null   int64 \n",
            " 40  Dolor torácico                                           2873 non-null   int64 \n",
            " 41  Fátiga                                                   2873 non-null   int64 \n",
            " 42  Fiebre                                                   2873 non-null   int64 \n",
            " 43  Gripe                                                    2873 non-null   int64 \n",
            " 44  Hematemesis                                              2873 non-null   int64 \n",
            " 45  Hipotensión                                              2873 non-null   int64 \n",
            " 46  Insomnio                                                 2873 non-null   int64 \n",
            " 47  Malestar general                                         2873 non-null   int64 \n",
            " 48  Manchas rojas                                            2873 non-null   int64 \n",
            " 49  Mareo                                                    2873 non-null   int64 \n",
            " 50  Náusea                                                   2873 non-null   int64 \n",
            " 51  Neumoní­a                                                2873 non-null   int64 \n",
            " 52  Otalgia                                                  2873 non-null   int64 \n",
            " 53  Parálisis corporal                                       2873 non-null   int64 \n",
            " 54  Paralisis facial                                         2873 non-null   int64 \n",
            " 55  Pérdida de apetito                                       2873 non-null   int64 \n",
            " 56  Pérdida de cabello                                       2873 non-null   int64 \n",
            " 57  Pérdida de Gusto                                         2873 non-null   int64 \n",
            " 58  Pérdida de memoria                                       2873 non-null   int64 \n",
            " 59  Pérdida de Olfato                                        2873 non-null   int64 \n",
            " 60  Picazón de garganta                                      2873 non-null   int64 \n",
            " 61  Presión elevada                                          2873 non-null   int64 \n",
            " 62  Presión en el pecho                                      2873 non-null   int64 \n",
            " 63  Problema circulatorio                                    2873 non-null   int64 \n",
            " 64  Prurito                                                  2873 non-null   int64 \n",
            " 65  Resfriado                                                2873 non-null   int64 \n",
            " 66  Sarpullido                                               2873 non-null   int64 \n",
            " 67  Saturación baja al respirar                              2873 non-null   int64 \n",
            " 68  Sudoración excesiva                                      2873 non-null   int64 \n",
            " 69  Taquicardia                                              2873 non-null   int64 \n",
            " 70  Tos                                                      2873 non-null   int64 \n",
            " 71  Vómito                                                   2873 non-null   int64 \n",
            "dtypes: int64(61), object(11)\n",
            "memory usage: 1.6+ MB\n"
          ]
        }
      ],
      "source": [
        "#verificacion de columnas existentes y los tipos de datos que contiene\n",
        "df_Síntomas.info()"
      ]
    },
    {
      "cell_type": "code",
      "execution_count": 269,
      "metadata": {
        "colab": {
          "base_uri": "https://localhost:8080/"
        },
        "id": "VA7XtbOLS46v",
        "outputId": "ed338e3d-fad6-4d08-e1a1-f88f5757dafd"
      },
      "outputs": [
        {
          "data": {
            "text/plain": [
              "(2873, 72)"
            ]
          },
          "execution_count": 269,
          "metadata": {},
          "output_type": "execute_result"
        }
      ],
      "source": [
        "#verificacion de columnas y filas de la data\n",
        "df_Síntomas.shape[:]"
      ]
    },
    {
      "cell_type": "code",
      "execution_count": 270,
      "metadata": {
        "colab": {
          "base_uri": "https://localhost:8080/"
        },
        "id": "FeOegwzCTLfb",
        "outputId": "62470d71-bb37-4fca-8808-ead296b2baf6"
      },
      "outputs": [
        {
          "name": "stdout",
          "output_type": "stream",
          "text": [
            "Se tiene (2873, 72) columnas:\n",
            "\n"
          ]
        },
        {
          "data": {
            "text/plain": [
              "['No.',\n",
              " 'Fecha Encuesta',\n",
              " '1. ¿Ciudad que reside?',\n",
              " '2. Ha tenido coronavirus?',\n",
              " '3. Seleccione la Edad',\n",
              " '4. ¿Género?',\n",
              " '5. ¿Qué variante del Virus lo contagio?',\n",
              " '6. ¿Fecha de contagio?',\n",
              " '7. ¿Intensidad de los sí\\xadntomas?',\n",
              " '8. ¿Lugar de contagio?',\n",
              " '9. ¿Cuantas dosis tenia aplicadas previo a contagiarse?',\n",
              " '10. ¿Qué vacuna recibió, previo a contagiarse?',\n",
              " '11. ¿Qué síntomas tuvo?',\n",
              " 'Afectación psicológica',\n",
              " 'Alergia',\n",
              " 'Alucinación',\n",
              " 'Amigdalitis',\n",
              " 'Arritmia',\n",
              " 'Asintomatismo',\n",
              " 'Colitis',\n",
              " 'Congestión nasal',\n",
              " 'Conjuntivitis',\n",
              " 'Convulsión',\n",
              " 'Desmayo',\n",
              " 'Diarrea',\n",
              " 'Dificultad al hablar',\n",
              " 'Dificultad para moverse',\n",
              " 'Dificultad para Respirar',\n",
              " 'Disgeusia',\n",
              " 'Dolor articular',\n",
              " 'Dolor de cabeza',\n",
              " 'Dolor de encías',\n",
              " 'Dolor de espalda',\n",
              " 'Dolor de estómago',\n",
              " 'Dolor de garganta',\n",
              " 'Dolor de huesos',\n",
              " 'Dolor en extremidades',\n",
              " 'Dolor muscular',\n",
              " 'Dolor ocular',\n",
              " 'Dolor renal ',\n",
              " 'Dolor torácico',\n",
              " 'Fátiga',\n",
              " 'Fiebre',\n",
              " 'Gripe',\n",
              " 'Hematemesis ',\n",
              " 'Hipotensión',\n",
              " 'Insomnio',\n",
              " 'Malestar general',\n",
              " 'Manchas rojas',\n",
              " 'Mareo',\n",
              " 'Náusea',\n",
              " 'Neumoní\\xada',\n",
              " 'Otalgia',\n",
              " 'Parálisis corporal',\n",
              " 'Paralisis facial',\n",
              " 'Pérdida de apetito',\n",
              " 'Pérdida de cabello',\n",
              " 'Pérdida de Gusto',\n",
              " 'Pérdida de memoria',\n",
              " 'Pérdida de Olfato',\n",
              " 'Picazón de garganta',\n",
              " 'Presión elevada',\n",
              " 'Presión en el pecho',\n",
              " 'Problema circulatorio',\n",
              " 'Prurito',\n",
              " 'Resfriado',\n",
              " 'Sarpullido',\n",
              " 'Saturación baja al respirar',\n",
              " 'Sudoración excesiva',\n",
              " 'Taquicardia',\n",
              " 'Tos',\n",
              " 'Vómito']"
            ]
          },
          "execution_count": 270,
          "metadata": {},
          "output_type": "execute_result"
        }
      ],
      "source": [
        "#muestra las columnas de la data\n",
        "print(\"Se tiene {} columnas:\\n\".format(df_Síntomas.shape[:]))\n",
        "list(df_Síntomas.columns)"
      ]
    },
    {
      "attachments": {},
      "cell_type": "markdown",
      "metadata": {
        "id": "XSVlwYIqag1n"
      },
      "source": [
        "###Variables Numericas"
      ]
    },
    {
      "cell_type": "code",
      "execution_count": 271,
      "metadata": {
        "id": "iJvVgvpTafV1"
      },
      "outputs": [],
      "source": [
        "#para presentar los datos numericos se usa el metodo ._get_numeric_data()\n",
        "df_Síntomas_datos_numericos= df_Síntomas._get_numeric_data()"
      ]
    },
    {
      "cell_type": "code",
      "execution_count": 272,
      "metadata": {
        "colab": {
          "base_uri": "https://localhost:8080/"
        },
        "id": "-E6pKhd9a8ym",
        "outputId": "85b001b8-0005-446e-c234-e5ee31133baf"
      },
      "outputs": [
        {
          "data": {
            "text/plain": [
              "61"
            ]
          },
          "execution_count": 272,
          "metadata": {},
          "output_type": "execute_result"
        }
      ],
      "source": [
        "#muestra el numero de columnas numericas\n",
        "# nota:\n",
        "# No se considera fechas y valores numericos y textos en rango ej: edad entre 26 a 40\n",
        "len(df_Síntomas_datos_numericos.axes[1])"
      ]
    },
    {
      "attachments": {},
      "cell_type": "markdown",
      "metadata": {
        "id": "eCvphVNGqBPb"
      },
      "source": [
        "###Variables Categoricas"
      ]
    },
    {
      "cell_type": "code",
      "execution_count": 273,
      "metadata": {
        "id": "J3AlGyAia9ot"
      },
      "outputs": [],
      "source": [
        "df_Síntomas_datos_categoricos = df_Síntomas.select_dtypes(exclude=['float64','float32','int32','int64'])"
      ]
    },
    {
      "cell_type": "code",
      "execution_count": 274,
      "metadata": {
        "colab": {
          "base_uri": "https://localhost:8080/"
        },
        "id": "FLAv295JbCWW",
        "outputId": "acf8581b-836b-4189-c3f5-8184a5d014af"
      },
      "outputs": [
        {
          "data": {
            "text/plain": [
              "11"
            ]
          },
          "execution_count": 274,
          "metadata": {},
          "output_type": "execute_result"
        }
      ],
      "source": [
        "# muestra el numero de de categoricas\n",
        "len(df_Síntomas_datos_categoricos.axes[1])"
      ]
    },
    {
      "attachments": {},
      "cell_type": "markdown",
      "metadata": {
        "id": "yZPNZ_HNVJWO"
      },
      "source": [
        "##**PASO 4:** PREPROCESAMIENTO DE DATOS"
      ]
    },
    {
      "attachments": {},
      "cell_type": "markdown",
      "metadata": {
        "id": "3LG1WiUZZ-At"
      },
      "source": [
        "###4.1.1 EVALUACION DE CALIDAD DE DATOS\n",
        "\n"
      ]
    },
    {
      "attachments": {},
      "cell_type": "markdown",
      "metadata": {
        "id": "f7RXTiX0qZMs"
      },
      "source": [
        "####Proceso de Valores Perdidos"
      ]
    },
    {
      "cell_type": "code",
      "execution_count": 275,
      "metadata": {
        "colab": {
          "base_uri": "https://localhost:8080/"
        },
        "id": "awAN2MqrVERW",
        "outputId": "14b26e84-d07f-402b-94bc-48234430c1ad"
      },
      "outputs": [
        {
          "data": {
            "text/plain": [
              "0"
            ]
          },
          "execution_count": 275,
          "metadata": {},
          "output_type": "execute_result"
        }
      ],
      "source": [
        "#verificacion de variables con valores NaN\n",
        "val_NaN = df_Síntomas.isnull().any().sum()\n",
        "val_NaN"
      ]
    },
    {
      "cell_type": "code",
      "execution_count": 276,
      "metadata": {
        "colab": {
          "base_uri": "https://localhost:8080/"
        },
        "id": "ytIKj49Vb9SD",
        "outputId": "36729478-2509-42e2-cf2c-d6ba8014366f"
      },
      "outputs": [
        {
          "data": {
            "text/plain": [
              "No.                            0\n",
              "Fecha Encuesta                 0\n",
              "1. ¿Ciudad que reside?         0\n",
              "2. Ha tenido coronavirus?      0\n",
              "3. Seleccione la Edad          0\n",
              "                              ..\n",
              "Saturación baja al respirar    0\n",
              "Sudoración excesiva            0\n",
              "Taquicardia                    0\n",
              "Tos                            0\n",
              "Vómito                         0\n",
              "Length: 72, dtype: int64"
            ]
          },
          "execution_count": 276,
          "metadata": {},
          "output_type": "execute_result"
        }
      ],
      "source": [
        "#número total de NaN en la Dataset.\n",
        "df_Síntomas.isnull().sum()"
      ]
    },
    {
      "attachments": {},
      "cell_type": "markdown",
      "metadata": {
        "id": "M64CLB-7r9qd"
      },
      "source": [
        "####Grafico para visualizar los valores NaN o perdidos"
      ]
    },
    {
      "attachments": {},
      "cell_type": "markdown",
      "metadata": {
        "id": "CfLNBsA-sDK9"
      },
      "source": [
        "###4.1.2 Normalización del texto de entrada"
      ]
    },
    {
      "attachments": {},
      "cell_type": "markdown",
      "metadata": {
        "id": "WVWFhG8Gc7sX"
      },
      "source": [
        "Poner el texto en minúsculas, eliminar el texto entre corchetes, eliminar la puntuación y eliminar las palabras que contienen números"
      ]
    },
    {
      "cell_type": "code",
      "execution_count": 277,
      "metadata": {
        "id": "JNk6XJ7Zrxn5"
      },
      "outputs": [],
      "source": [
        "#definicion de una funcion para cambiar datos que contengan tilde por una sin tilde,\n",
        "#convertir de mayuscula a minuscula\n",
        "#eliminacion de caracteres especiales\n",
        "def Clean_txt(text):\n",
        "    text = str(text)\n",
        "    text = text.lower()\n",
        "    text = re.sub('á', 'a', text)\n",
        "    text = re.sub('é', 'e', text)\n",
        "    text = re.sub('í', 'i', text)\n",
        "    text = re.sub('ó', 'o', text)\n",
        "    text = re.sub('ú', 'u', text)\n",
        "    text = re.sub('\\[.*?¿\\]\\%', ' ', text)\n",
        "    text = re.sub('[%s]' % re.escape(string.punctuation), ' ', text)\n",
        "    text = re.sub('\\w*\\d\\w*', '', text)\n",
        "    text = re.sub('[‘’“”…«»]', '', text)\n",
        "    text = re.sub('\\n', ' ', text)\n",
        "    text = re.sub(r'\\s+', ' ', text)\n",
        "    text = re.sub('[^a-zA-Z]', ' ', text)\n",
        "    return text"
      ]
    },
    {
      "cell_type": "code",
      "execution_count": 278,
      "metadata": {
        "id": "AfK5akRjnYYJ"
      },
      "outputs": [],
      "source": [
        "#se aplica la funcion \"limpieza_tilde\" a la columna \"10. Describa lo más detallado ¿Qué síntomas ha tenido?-SIN DEPURAR\"\n",
        "df_Síntomas[\"Síntomas-Normalizado\"] = df_Síntomas.apply(lambda x: Clean_txt( x[\"11. ¿Qué síntomas tuvo?\"]), axis=1)"
      ]
    },
    {
      "attachments": {},
      "cell_type": "markdown",
      "metadata": {
        "id": "Skv2H-hkyqIq"
      },
      "source": [
        "###4.1.3  Balaceo de los datos de Salida"
      ]
    },
    {
      "cell_type": "code",
      "execution_count": 279,
      "metadata": {
        "colab": {
          "base_uri": "https://localhost:8080/"
        },
        "id": "z-cUV4tes9cl",
        "outputId": "efea4ea6-abef-472b-d8bc-e07552a6c779"
      },
      "outputs": [
        {
          "data": {
            "text/plain": [
              "Afectación psicológica           20\n",
              "Alergia                          12\n",
              "Alucinación                       2\n",
              "Amigdalitis                      14\n",
              "Arritmia                          1\n",
              "Asintomatismo                   204\n",
              "Colitis                           1\n",
              "Congestión nasal                 52\n",
              "Conjuntivitis                    12\n",
              "Convulsión                        1\n",
              "Desmayo                           6\n",
              "Diarrea                          94\n",
              "Dificultad al hablar              3\n",
              "Dificultad para moverse           6\n",
              "Dificultad para Respirar        359\n",
              "Disgeusia                         6\n",
              "Dolor articular                  69\n",
              "Dolor de cabeza                 940\n",
              "Dolor de encías                   2\n",
              "Dolor de espalda                 67\n",
              "Dolor de estómago                38\n",
              "Dolor de garganta               201\n",
              "Dolor de huesos                  89\n",
              "Dolor en extremidades             9\n",
              "Dolor muscular                  245\n",
              "Dolor ocular                     18\n",
              "Dolor renal                       2\n",
              "Dolor torácico                   31\n",
              "Fátiga                          319\n",
              "Fiebre                         1523\n",
              "Gripe                           192\n",
              "Hematemesis                       2\n",
              "Hipotensión                       4\n",
              "Insomnio                         17\n",
              "Malestar general                619\n",
              "Manchas rojas                     5\n",
              "Mareo                            68\n",
              "Náusea                           31\n",
              "Neumoní­a                         4\n",
              "Otalgia                           7\n",
              "Parálisis corporal                4\n",
              "Paralisis facial                  1\n",
              "Pérdida de apetito               94\n",
              "Pérdida de cabello                8\n",
              "Pérdida de Gusto                791\n",
              "Pérdida de memoria                2\n",
              "Pérdida de Olfato               820\n",
              "Picazón de garganta              10\n",
              "Presión elevada                   7\n",
              "Presión en el pecho              46\n",
              "Problema circulatorio             2\n",
              "Prurito                           7\n",
              "Resfriado                        10\n",
              "Sarpullido                        5\n",
              "Saturación baja al respirar       8\n",
              "Sudoración excesiva              14\n",
              "Taquicardia                      14\n",
              "Tos                             431\n",
              "dtype: int64"
            ]
          },
          "execution_count": 279,
          "metadata": {},
          "output_type": "execute_result"
        }
      ],
      "source": [
        "df_Síntomas.iloc[ : , 13:71 ].sum()"
      ]
    },
    {
      "cell_type": "code",
      "execution_count": 280,
      "metadata": {
        "id": "OcFikDlzpWBz"
      },
      "outputs": [],
      "source": [
        "sintomas_totalizado = df_Síntomas.iloc[ : , 13:71 ].sum()"
      ]
    },
    {
      "attachments": {},
      "cell_type": "markdown",
      "metadata": {
        "id": "Gyk29CFLzJpS"
      },
      "source": [
        "#### Visualización del desbalanceo de datos"
      ]
    },
    {
      "cell_type": "code",
      "execution_count": 281,
      "metadata": {
        "id": "UyMDM_0Npq41"
      },
      "outputs": [],
      "source": [
        "datos_totales_sint = df_Síntomas.iloc[ : , 13:71 ].sum()"
      ]
    },
    {
      "attachments": {},
      "cell_type": "markdown",
      "metadata": {
        "id": "Lwv4Qt5azf8N"
      },
      "source": [
        "#### Elección del 80% de datos de entrada hallando el 20% de Sintomas más mencionados"
      ]
    },
    {
      "cell_type": "code",
      "execution_count": 282,
      "metadata": {
        "id": "h8wr_Spl_jJz"
      },
      "outputs": [],
      "source": [
        "lista_col = ['Dolor de cabeza', 'Pérdida de Olfato', 'Pérdida de Gusto', 'Malestar general', 'Fiebre', 'Tos',  'Dificultad para Respirar', 'Fátiga', 'Dolor muscular', 'Asintomatismo', 'Dolor de garganta', 'Gripe']"
      ]
    },
    {
      "cell_type": "code",
      "execution_count": 283,
      "metadata": {
        "colab": {
          "base_uri": "https://localhost:8080/",
          "height": 485
        },
        "id": "kWUpnq74_jHE",
        "outputId": "4ec628de-9e2e-49fd-c5f3-143bb7414b66"
      },
      "outputs": [
        {
          "data": {
            "text/html": [
              "\n",
              "  <div id=\"df-8a08fdef-a1af-4f29-8dd4-3303d74af976\">\n",
              "    <div class=\"colab-df-container\">\n",
              "      <div>\n",
              "<style scoped>\n",
              "    .dataframe tbody tr th:only-of-type {\n",
              "        vertical-align: middle;\n",
              "    }\n",
              "\n",
              "    .dataframe tbody tr th {\n",
              "        vertical-align: top;\n",
              "    }\n",
              "\n",
              "    .dataframe thead th {\n",
              "        text-align: right;\n",
              "    }\n",
              "</style>\n",
              "<table border=\"1\" class=\"dataframe\">\n",
              "  <thead>\n",
              "    <tr style=\"text-align: right;\">\n",
              "      <th></th>\n",
              "      <th>Dolor de cabeza</th>\n",
              "      <th>Pérdida de Olfato</th>\n",
              "      <th>Pérdida de Gusto</th>\n",
              "      <th>Malestar general</th>\n",
              "      <th>Fiebre</th>\n",
              "      <th>Tos</th>\n",
              "      <th>Dificultad para Respirar</th>\n",
              "      <th>Fátiga</th>\n",
              "      <th>Dolor muscular</th>\n",
              "      <th>Asintomatismo</th>\n",
              "      <th>Dolor de garganta</th>\n",
              "      <th>Gripe</th>\n",
              "    </tr>\n",
              "  </thead>\n",
              "  <tbody>\n",
              "    <tr>\n",
              "      <th>0</th>\n",
              "      <td>0</td>\n",
              "      <td>0</td>\n",
              "      <td>1</td>\n",
              "      <td>1</td>\n",
              "      <td>0</td>\n",
              "      <td>0</td>\n",
              "      <td>1</td>\n",
              "      <td>1</td>\n",
              "      <td>0</td>\n",
              "      <td>0</td>\n",
              "      <td>0</td>\n",
              "      <td>0</td>\n",
              "    </tr>\n",
              "    <tr>\n",
              "      <th>1</th>\n",
              "      <td>0</td>\n",
              "      <td>0</td>\n",
              "      <td>0</td>\n",
              "      <td>1</td>\n",
              "      <td>1</td>\n",
              "      <td>0</td>\n",
              "      <td>1</td>\n",
              "      <td>0</td>\n",
              "      <td>0</td>\n",
              "      <td>0</td>\n",
              "      <td>0</td>\n",
              "      <td>0</td>\n",
              "    </tr>\n",
              "    <tr>\n",
              "      <th>2</th>\n",
              "      <td>0</td>\n",
              "      <td>1</td>\n",
              "      <td>1</td>\n",
              "      <td>0</td>\n",
              "      <td>0</td>\n",
              "      <td>1</td>\n",
              "      <td>0</td>\n",
              "      <td>0</td>\n",
              "      <td>0</td>\n",
              "      <td>0</td>\n",
              "      <td>0</td>\n",
              "      <td>0</td>\n",
              "    </tr>\n",
              "    <tr>\n",
              "      <th>3</th>\n",
              "      <td>0</td>\n",
              "      <td>0</td>\n",
              "      <td>0</td>\n",
              "      <td>1</td>\n",
              "      <td>0</td>\n",
              "      <td>0</td>\n",
              "      <td>1</td>\n",
              "      <td>0</td>\n",
              "      <td>0</td>\n",
              "      <td>0</td>\n",
              "      <td>0</td>\n",
              "      <td>0</td>\n",
              "    </tr>\n",
              "    <tr>\n",
              "      <th>4</th>\n",
              "      <td>1</td>\n",
              "      <td>0</td>\n",
              "      <td>0</td>\n",
              "      <td>1</td>\n",
              "      <td>0</td>\n",
              "      <td>1</td>\n",
              "      <td>0</td>\n",
              "      <td>0</td>\n",
              "      <td>0</td>\n",
              "      <td>0</td>\n",
              "      <td>1</td>\n",
              "      <td>0</td>\n",
              "    </tr>\n",
              "    <tr>\n",
              "      <th>...</th>\n",
              "      <td>...</td>\n",
              "      <td>...</td>\n",
              "      <td>...</td>\n",
              "      <td>...</td>\n",
              "      <td>...</td>\n",
              "      <td>...</td>\n",
              "      <td>...</td>\n",
              "      <td>...</td>\n",
              "      <td>...</td>\n",
              "      <td>...</td>\n",
              "      <td>...</td>\n",
              "      <td>...</td>\n",
              "    </tr>\n",
              "    <tr>\n",
              "      <th>2868</th>\n",
              "      <td>1</td>\n",
              "      <td>0</td>\n",
              "      <td>0</td>\n",
              "      <td>1</td>\n",
              "      <td>0</td>\n",
              "      <td>0</td>\n",
              "      <td>0</td>\n",
              "      <td>0</td>\n",
              "      <td>0</td>\n",
              "      <td>0</td>\n",
              "      <td>0</td>\n",
              "      <td>0</td>\n",
              "    </tr>\n",
              "    <tr>\n",
              "      <th>2869</th>\n",
              "      <td>0</td>\n",
              "      <td>0</td>\n",
              "      <td>0</td>\n",
              "      <td>0</td>\n",
              "      <td>0</td>\n",
              "      <td>0</td>\n",
              "      <td>0</td>\n",
              "      <td>0</td>\n",
              "      <td>1</td>\n",
              "      <td>0</td>\n",
              "      <td>0</td>\n",
              "      <td>0</td>\n",
              "    </tr>\n",
              "    <tr>\n",
              "      <th>2870</th>\n",
              "      <td>0</td>\n",
              "      <td>0</td>\n",
              "      <td>0</td>\n",
              "      <td>0</td>\n",
              "      <td>0</td>\n",
              "      <td>0</td>\n",
              "      <td>0</td>\n",
              "      <td>0</td>\n",
              "      <td>0</td>\n",
              "      <td>1</td>\n",
              "      <td>0</td>\n",
              "      <td>0</td>\n",
              "    </tr>\n",
              "    <tr>\n",
              "      <th>2871</th>\n",
              "      <td>1</td>\n",
              "      <td>0</td>\n",
              "      <td>0</td>\n",
              "      <td>0</td>\n",
              "      <td>1</td>\n",
              "      <td>0</td>\n",
              "      <td>0</td>\n",
              "      <td>0</td>\n",
              "      <td>0</td>\n",
              "      <td>0</td>\n",
              "      <td>0</td>\n",
              "      <td>0</td>\n",
              "    </tr>\n",
              "    <tr>\n",
              "      <th>2872</th>\n",
              "      <td>0</td>\n",
              "      <td>0</td>\n",
              "      <td>1</td>\n",
              "      <td>0</td>\n",
              "      <td>1</td>\n",
              "      <td>0</td>\n",
              "      <td>0</td>\n",
              "      <td>0</td>\n",
              "      <td>0</td>\n",
              "      <td>0</td>\n",
              "      <td>0</td>\n",
              "      <td>0</td>\n",
              "    </tr>\n",
              "  </tbody>\n",
              "</table>\n",
              "<p>2873 rows × 12 columns</p>\n",
              "</div>\n",
              "      <button class=\"colab-df-convert\" onclick=\"convertToInteractive('df-8a08fdef-a1af-4f29-8dd4-3303d74af976')\"\n",
              "              title=\"Convert this dataframe to an interactive table.\"\n",
              "              style=\"display:none;\">\n",
              "        \n",
              "  <svg xmlns=\"http://www.w3.org/2000/svg\" height=\"24px\"viewBox=\"0 0 24 24\"\n",
              "       width=\"24px\">\n",
              "    <path d=\"M0 0h24v24H0V0z\" fill=\"none\"/>\n",
              "    <path d=\"M18.56 5.44l.94 2.06.94-2.06 2.06-.94-2.06-.94-.94-2.06-.94 2.06-2.06.94zm-11 1L8.5 8.5l.94-2.06 2.06-.94-2.06-.94L8.5 2.5l-.94 2.06-2.06.94zm10 10l.94 2.06.94-2.06 2.06-.94-2.06-.94-.94-2.06-.94 2.06-2.06.94z\"/><path d=\"M17.41 7.96l-1.37-1.37c-.4-.4-.92-.59-1.43-.59-.52 0-1.04.2-1.43.59L10.3 9.45l-7.72 7.72c-.78.78-.78 2.05 0 2.83L4 21.41c.39.39.9.59 1.41.59.51 0 1.02-.2 1.41-.59l7.78-7.78 2.81-2.81c.8-.78.8-2.07 0-2.86zM5.41 20L4 18.59l7.72-7.72 1.47 1.35L5.41 20z\"/>\n",
              "  </svg>\n",
              "      </button>\n",
              "      \n",
              "  <style>\n",
              "    .colab-df-container {\n",
              "      display:flex;\n",
              "      flex-wrap:wrap;\n",
              "      gap: 12px;\n",
              "    }\n",
              "\n",
              "    .colab-df-convert {\n",
              "      background-color: #E8F0FE;\n",
              "      border: none;\n",
              "      border-radius: 50%;\n",
              "      cursor: pointer;\n",
              "      display: none;\n",
              "      fill: #1967D2;\n",
              "      height: 32px;\n",
              "      padding: 0 0 0 0;\n",
              "      width: 32px;\n",
              "    }\n",
              "\n",
              "    .colab-df-convert:hover {\n",
              "      background-color: #E2EBFA;\n",
              "      box-shadow: 0px 1px 2px rgba(60, 64, 67, 0.3), 0px 1px 3px 1px rgba(60, 64, 67, 0.15);\n",
              "      fill: #174EA6;\n",
              "    }\n",
              "\n",
              "    [theme=dark] .colab-df-convert {\n",
              "      background-color: #3B4455;\n",
              "      fill: #D2E3FC;\n",
              "    }\n",
              "\n",
              "    [theme=dark] .colab-df-convert:hover {\n",
              "      background-color: #434B5C;\n",
              "      box-shadow: 0px 1px 3px 1px rgba(0, 0, 0, 0.15);\n",
              "      filter: drop-shadow(0px 1px 2px rgba(0, 0, 0, 0.3));\n",
              "      fill: #FFFFFF;\n",
              "    }\n",
              "  </style>\n",
              "\n",
              "      <script>\n",
              "        const buttonEl =\n",
              "          document.querySelector('#df-8a08fdef-a1af-4f29-8dd4-3303d74af976 button.colab-df-convert');\n",
              "        buttonEl.style.display =\n",
              "          google.colab.kernel.accessAllowed ? 'block' : 'none';\n",
              "\n",
              "        async function convertToInteractive(key) {\n",
              "          const element = document.querySelector('#df-8a08fdef-a1af-4f29-8dd4-3303d74af976');\n",
              "          const dataTable =\n",
              "            await google.colab.kernel.invokeFunction('convertToInteractive',\n",
              "                                                     [key], {});\n",
              "          if (!dataTable) return;\n",
              "\n",
              "          const docLinkHtml = 'Like what you see? Visit the ' +\n",
              "            '<a target=\"_blank\" href=https://colab.research.google.com/notebooks/data_table.ipynb>data table notebook</a>'\n",
              "            + ' to learn more about interactive tables.';\n",
              "          element.innerHTML = '';\n",
              "          dataTable['output_type'] = 'display_data';\n",
              "          await google.colab.output.renderOutput(dataTable, element);\n",
              "          const docLink = document.createElement('div');\n",
              "          docLink.innerHTML = docLinkHtml;\n",
              "          element.appendChild(docLink);\n",
              "        }\n",
              "      </script>\n",
              "    </div>\n",
              "  </div>\n",
              "  "
            ],
            "text/plain": [
              "      Dolor de cabeza  Pérdida de Olfato  Pérdida de Gusto  Malestar general  \\\n",
              "0                   0                  0                 1                 1   \n",
              "1                   0                  0                 0                 1   \n",
              "2                   0                  1                 1                 0   \n",
              "3                   0                  0                 0                 1   \n",
              "4                   1                  0                 0                 1   \n",
              "...               ...                ...               ...               ...   \n",
              "2868                1                  0                 0                 1   \n",
              "2869                0                  0                 0                 0   \n",
              "2870                0                  0                 0                 0   \n",
              "2871                1                  0                 0                 0   \n",
              "2872                0                  0                 1                 0   \n",
              "\n",
              "      Fiebre  Tos  Dificultad para Respirar  Fátiga  Dolor muscular  \\\n",
              "0          0    0                         1       1               0   \n",
              "1          1    0                         1       0               0   \n",
              "2          0    1                         0       0               0   \n",
              "3          0    0                         1       0               0   \n",
              "4          0    1                         0       0               0   \n",
              "...      ...  ...                       ...     ...             ...   \n",
              "2868       0    0                         0       0               0   \n",
              "2869       0    0                         0       0               1   \n",
              "2870       0    0                         0       0               0   \n",
              "2871       1    0                         0       0               0   \n",
              "2872       1    0                         0       0               0   \n",
              "\n",
              "      Asintomatismo  Dolor de garganta  Gripe  \n",
              "0                 0                  0      0  \n",
              "1                 0                  0      0  \n",
              "2                 0                  0      0  \n",
              "3                 0                  0      0  \n",
              "4                 0                  1      0  \n",
              "...             ...                ...    ...  \n",
              "2868              0                  0      0  \n",
              "2869              0                  0      0  \n",
              "2870              1                  0      0  \n",
              "2871              0                  0      0  \n",
              "2872              0                  0      0  \n",
              "\n",
              "[2873 rows x 12 columns]"
            ]
          },
          "execution_count": 283,
          "metadata": {},
          "output_type": "execute_result"
        }
      ],
      "source": [
        "df_Síntomas[lista_col]"
      ]
    },
    {
      "cell_type": "code",
      "execution_count": 284,
      "metadata": {
        "colab": {
          "base_uri": "https://localhost:8080/",
          "height": 706
        },
        "id": "Aq-pHjKcbKVZ",
        "outputId": "ac756864-ec92-4cfe-82de-55574d783421"
      },
      "outputs": [
        {
          "data": {
            "image/png": "[encoded data removed]",
            "text/plain": [
              "<Figure size 500x700 with 1 Axes>"
            ]
          },
          "metadata": {},
          "output_type": "display_data"
        },
        {
          "data": {
            "text/plain": [
              "<Figure size 640x480 with 0 Axes>"
            ]
          },
          "metadata": {},
          "output_type": "display_data"
        }
      ],
      "source": [
        "import seaborn as sns\n",
        "import pandas as pd\n",
        "\n",
        "count_ages = datos_totales_sint[lista_col]\n",
        "namesbars = df_Síntomas[lista_col].columns\n",
        "\n",
        "# Ordenar los datos de manera descendente\n",
        "sorted_data = count_ages.sort_values(ascending=False)\n",
        "\n",
        "# Crear un dataframe con los datos ordenados\n",
        "df_sorted = pd.DataFrame({'Sintoma': sorted_data.index, 'Cantidad': sorted_data.values})\n",
        "\n",
        "# Definir la paleta de colores\n",
        "color_palette = sns.color_palette(\"RdYlGn\", len(df_sorted))\n",
        "\n",
        "# Crear el gráfico de barras horizontales\n",
        "plt.figure(figsize=(5, 7))\n",
        "sns.barplot(x='Cantidad', y='Sintoma', data=df_sorted, palette=color_palette)\n",
        "\n",
        "# Asignar colores a las barras según los valores\n",
        "for i, bar in enumerate(plt.gca().patches):\n",
        "    color = color_palette[i] if i < len(color_palette) else color_palette[-1]\n",
        "    bar.set_color(color)\n",
        "\n",
        "    # Agregar el valor numérico a la derecha de la barra\n",
        "    plt.text(bar.get_width(), bar.get_y() + bar.get_height() / 2, f'{int(bar.get_width()):,}', ha='left', va='center')\n",
        "\n",
        "plt.title('Periodo 2022-2023-CII')\n",
        "plt.suptitle('Habitantes de Guayaquil afectados con COVID-19', fontsize=14, fontweight='bold')\n",
        "\n",
        "plt.xlabel('Cantidad')\n",
        "plt.ylabel('Sintoma')\n",
        "\n",
        "plt.show()\n",
        "plt.savefig('Sintomas relevantes de habitantes afectados con covid19 2021-2022')\n"
      ]
    },
    {
      "attachments": {},
      "cell_type": "markdown",
      "metadata": {
        "id": "hYsO2KHbov-D"
      },
      "source": [
        "#**Analisis de Frecuencia**"
      ]
    },
    {
      "cell_type": "code",
      "execution_count": 285,
      "metadata": {
        "colab": {
          "base_uri": "https://localhost:8080/",
          "height": 1000
        },
        "id": "wKc0W7cao1Nr",
        "outputId": "ef848717-3d12-4451-c12b-ce12a0f452bd"
      },
      "outputs": [
        {
          "data": {
            "text/html": [
              "\n",
              "  <div id=\"df-17d40185-5cb3-4e5b-9b95-08eabd5b950d\">\n",
              "    <div class=\"colab-df-container\">\n",
              "      <div>\n",
              "<style scoped>\n",
              "    .dataframe tbody tr th:only-of-type {\n",
              "        vertical-align: middle;\n",
              "    }\n",
              "\n",
              "    .dataframe tbody tr th {\n",
              "        vertical-align: top;\n",
              "    }\n",
              "\n",
              "    .dataframe thead th {\n",
              "        text-align: right;\n",
              "    }\n",
              "</style>\n",
              "<table border=\"1\" class=\"dataframe\">\n",
              "  <thead>\n",
              "    <tr style=\"text-align: right;\">\n",
              "      <th></th>\n",
              "      <th>No.</th>\n",
              "      <th>Fecha Encuesta</th>\n",
              "      <th>1. ¿Ciudad que reside?</th>\n",
              "      <th>2. Ha tenido coronavirus?</th>\n",
              "      <th>3. Seleccione la Edad</th>\n",
              "      <th>4. ¿Género?</th>\n",
              "      <th>5. ¿Qué variante del Virus lo contagio?</th>\n",
              "      <th>6. ¿Fecha de contagio?</th>\n",
              "      <th>7. ¿Intensidad de los sí­ntomas?</th>\n",
              "      <th>8. ¿Lugar de contagio?</th>\n",
              "      <th>9. ¿Cuantas dosis tenia aplicadas previo a contagiarse?</th>\n",
              "      <th>10. ¿Qué vacuna recibió, previo a contagiarse?</th>\n",
              "      <th>11. ¿Qué síntomas tuvo?</th>\n",
              "    </tr>\n",
              "  </thead>\n",
              "  <tbody>\n",
              "    <tr>\n",
              "      <th>0</th>\n",
              "      <td>1</td>\n",
              "      <td>2021-09-12 10:41:46</td>\n",
              "      <td>Guayaquil</td>\n",
              "      <td>Si</td>\n",
              "      <td>Entre 26 a 64 años</td>\n",
              "      <td>M</td>\n",
              "      <td>Alfa</td>\n",
              "      <td>2021-03-16 00:00:00</td>\n",
              "      <td>Fuerte</td>\n",
              "      <td>Trabajo</td>\n",
              "      <td>0</td>\n",
              "      <td>Astrazeneca</td>\n",
              "      <td>FALTA DE AIRE, PERDIDA DEL GUSTO, CANSANCIO EX...</td>\n",
              "    </tr>\n",
              "    <tr>\n",
              "      <th>1</th>\n",
              "      <td>2</td>\n",
              "      <td>2021-09-12 14:21:34</td>\n",
              "      <td>Guayaquil</td>\n",
              "      <td>Si</td>\n",
              "      <td>Entre 26 a 64 años</td>\n",
              "      <td>F</td>\n",
              "      <td>Alfa</td>\n",
              "      <td>2020-03-12 00:00:00</td>\n",
              "      <td>Fuerte</td>\n",
              "      <td>OTRO</td>\n",
              "      <td>0</td>\n",
              "      <td>Sinovac</td>\n",
              "      <td>Falta de aire, fiebre alta, mucho dolor de cuerpo</td>\n",
              "    </tr>\n",
              "    <tr>\n",
              "      <th>2</th>\n",
              "      <td>3</td>\n",
              "      <td>2021-09-12 16:21:57</td>\n",
              "      <td>Guayaquil</td>\n",
              "      <td>Si</td>\n",
              "      <td>Entre 18 a 25 años</td>\n",
              "      <td>F</td>\n",
              "      <td>No Sabe</td>\n",
              "      <td>2020-03-19 00:00:00</td>\n",
              "      <td>Leve</td>\n",
              "      <td>Medio de Trasporte</td>\n",
              "      <td>0</td>\n",
              "      <td>Sinovac</td>\n",
              "      <td>Perdida del gusto y el olfato y tos por las no...</td>\n",
              "    </tr>\n",
              "    <tr>\n",
              "      <th>3</th>\n",
              "      <td>4</td>\n",
              "      <td>2021-09-12 16:25:21</td>\n",
              "      <td>Guayaquil</td>\n",
              "      <td>Si</td>\n",
              "      <td>Entre 26 a 64 años</td>\n",
              "      <td>M</td>\n",
              "      <td>Delta</td>\n",
              "      <td>2020-10-16 00:00:00</td>\n",
              "      <td>Leve</td>\n",
              "      <td>Fiesta</td>\n",
              "      <td>1</td>\n",
              "      <td>Astrazeneca</td>\n",
              "      <td>Problemas de respirar y malestar</td>\n",
              "    </tr>\n",
              "    <tr>\n",
              "      <th>4</th>\n",
              "      <td>5</td>\n",
              "      <td>2021-09-12 20:58:02</td>\n",
              "      <td>Guayaquil</td>\n",
              "      <td>Si</td>\n",
              "      <td>Entre 26 a 64 años</td>\n",
              "      <td>F</td>\n",
              "      <td>No Sabe</td>\n",
              "      <td>2020-03-30 00:00:00</td>\n",
              "      <td>Medio</td>\n",
              "      <td>Medio de Trasporte</td>\n",
              "      <td>0</td>\n",
              "      <td>No tenia ninguna vacuna puesta</td>\n",
              "      <td>Dolor de cabeza, malestar, tos, dolor de garga...</td>\n",
              "    </tr>\n",
              "    <tr>\n",
              "      <th>...</th>\n",
              "      <td>...</td>\n",
              "      <td>...</td>\n",
              "      <td>...</td>\n",
              "      <td>...</td>\n",
              "      <td>...</td>\n",
              "      <td>...</td>\n",
              "      <td>...</td>\n",
              "      <td>...</td>\n",
              "      <td>...</td>\n",
              "      <td>...</td>\n",
              "      <td>...</td>\n",
              "      <td>...</td>\n",
              "      <td>...</td>\n",
              "    </tr>\n",
              "    <tr>\n",
              "      <th>2868</th>\n",
              "      <td>2869</td>\n",
              "      <td>12/23/2021 23:28:08</td>\n",
              "      <td>Guayaquil</td>\n",
              "      <td>Si</td>\n",
              "      <td>Entre 18 a 25 años</td>\n",
              "      <td>F</td>\n",
              "      <td>Alfa</td>\n",
              "      <td>2021-02-12 00:00:00</td>\n",
              "      <td>Leve</td>\n",
              "      <td>Medio de Trasporte</td>\n",
              "      <td>0</td>\n",
              "      <td>No tenia ninguna vacuna puesta</td>\n",
              "      <td>malestar y dolor de cabeza</td>\n",
              "    </tr>\n",
              "    <tr>\n",
              "      <th>2869</th>\n",
              "      <td>2870</td>\n",
              "      <td>12/23/2021 23:28:15</td>\n",
              "      <td>Guayaquil</td>\n",
              "      <td>Si</td>\n",
              "      <td>Entre 26 a 64 años</td>\n",
              "      <td>M</td>\n",
              "      <td>Delta</td>\n",
              "      <td>2021-03-22 00:00:00</td>\n",
              "      <td>Medio</td>\n",
              "      <td>Trabajo</td>\n",
              "      <td>1</td>\n",
              "      <td>Astrazeneca</td>\n",
              "      <td>dolor muscular</td>\n",
              "    </tr>\n",
              "    <tr>\n",
              "      <th>2870</th>\n",
              "      <td>2871</td>\n",
              "      <td>12/23/2021 23:31:59</td>\n",
              "      <td>Guayaquil</td>\n",
              "      <td>Si</td>\n",
              "      <td>Entre 26 a 64 años</td>\n",
              "      <td>M</td>\n",
              "      <td>Alfa</td>\n",
              "      <td>2020-08-01 00:00:00</td>\n",
              "      <td>Sin Sintomas</td>\n",
              "      <td>Trabajo</td>\n",
              "      <td>0</td>\n",
              "      <td>No tenia ninguna vacuna puesta</td>\n",
              "      <td>Ningún síntoma</td>\n",
              "    </tr>\n",
              "    <tr>\n",
              "      <th>2871</th>\n",
              "      <td>2872</td>\n",
              "      <td>12/23/2021 23:36:07</td>\n",
              "      <td>Guayaquil</td>\n",
              "      <td>Si</td>\n",
              "      <td>Entre 18 a 25 años</td>\n",
              "      <td>F</td>\n",
              "      <td>No Sabe</td>\n",
              "      <td>2020-06-12 00:00:00</td>\n",
              "      <td>Sin Sintomas</td>\n",
              "      <td>Medio de Trasporte</td>\n",
              "      <td>0</td>\n",
              "      <td>No tenia ninguna vacuna puesta</td>\n",
              "      <td>Fiebre, dolor de cabeza</td>\n",
              "    </tr>\n",
              "    <tr>\n",
              "      <th>2872</th>\n",
              "      <td>2873</td>\n",
              "      <td>12/23/2021 23:52:27</td>\n",
              "      <td>Guayaquil</td>\n",
              "      <td>Si</td>\n",
              "      <td>Entre 18 a 25 años</td>\n",
              "      <td>F</td>\n",
              "      <td>No Sabe</td>\n",
              "      <td>2021-07-08 00:00:00</td>\n",
              "      <td>Medio</td>\n",
              "      <td>Medio de Trasporte</td>\n",
              "      <td>0</td>\n",
              "      <td>No tenia ninguna vacuna puesta</td>\n",
              "      <td>Perdida de apetito, no tenia gusto, fiebre ent...</td>\n",
              "    </tr>\n",
              "  </tbody>\n",
              "</table>\n",
              "<p>2873 rows × 13 columns</p>\n",
              "</div>\n",
              "      <button class=\"colab-df-convert\" onclick=\"convertToInteractive('df-17d40185-5cb3-4e5b-9b95-08eabd5b950d')\"\n",
              "              title=\"Convert this dataframe to an interactive table.\"\n",
              "              style=\"display:none;\">\n",
              "        \n",
              "  <svg xmlns=\"http://www.w3.org/2000/svg\" height=\"24px\"viewBox=\"0 0 24 24\"\n",
              "       width=\"24px\">\n",
              "    <path d=\"M0 0h24v24H0V0z\" fill=\"none\"/>\n",
              "    <path d=\"M18.56 5.44l.94 2.06.94-2.06 2.06-.94-2.06-.94-.94-2.06-.94 2.06-2.06.94zm-11 1L8.5 8.5l.94-2.06 2.06-.94-2.06-.94L8.5 2.5l-.94 2.06-2.06.94zm10 10l.94 2.06.94-2.06 2.06-.94-2.06-.94-.94-2.06-.94 2.06-2.06.94z\"/><path d=\"M17.41 7.96l-1.37-1.37c-.4-.4-.92-.59-1.43-.59-.52 0-1.04.2-1.43.59L10.3 9.45l-7.72 7.72c-.78.78-.78 2.05 0 2.83L4 21.41c.39.39.9.59 1.41.59.51 0 1.02-.2 1.41-.59l7.78-7.78 2.81-2.81c.8-.78.8-2.07 0-2.86zM5.41 20L4 18.59l7.72-7.72 1.47 1.35L5.41 20z\"/>\n",
              "  </svg>\n",
              "      </button>\n",
              "      \n",
              "  <style>\n",
              "    .colab-df-container {\n",
              "      display:flex;\n",
              "      flex-wrap:wrap;\n",
              "      gap: 12px;\n",
              "    }\n",
              "\n",
              "    .colab-df-convert {\n",
              "      background-color: #E8F0FE;\n",
              "      border: none;\n",
              "      border-radius: 50%;\n",
              "      cursor: pointer;\n",
              "      display: none;\n",
              "      fill: #1967D2;\n",
              "      height: 32px;\n",
              "      padding: 0 0 0 0;\n",
              "      width: 32px;\n",
              "    }\n",
              "\n",
              "    .colab-df-convert:hover {\n",
              "      background-color: #E2EBFA;\n",
              "      box-shadow: 0px 1px 2px rgba(60, 64, 67, 0.3), 0px 1px 3px 1px rgba(60, 64, 67, 0.15);\n",
              "      fill: #174EA6;\n",
              "    }\n",
              "\n",
              "    [theme=dark] .colab-df-convert {\n",
              "      background-color: #3B4455;\n",
              "      fill: #D2E3FC;\n",
              "    }\n",
              "\n",
              "    [theme=dark] .colab-df-convert:hover {\n",
              "      background-color: #434B5C;\n",
              "      box-shadow: 0px 1px 3px 1px rgba(0, 0, 0, 0.15);\n",
              "      filter: drop-shadow(0px 1px 2px rgba(0, 0, 0, 0.3));\n",
              "      fill: #FFFFFF;\n",
              "    }\n",
              "  </style>\n",
              "\n",
              "      <script>\n",
              "        const buttonEl =\n",
              "          document.querySelector('#df-17d40185-5cb3-4e5b-9b95-08eabd5b950d button.colab-df-convert');\n",
              "        buttonEl.style.display =\n",
              "          google.colab.kernel.accessAllowed ? 'block' : 'none';\n",
              "\n",
              "        async function convertToInteractive(key) {\n",
              "          const element = document.querySelector('#df-17d40185-5cb3-4e5b-9b95-08eabd5b950d');\n",
              "          const dataTable =\n",
              "            await google.colab.kernel.invokeFunction('convertToInteractive',\n",
              "                                                     [key], {});\n",
              "          if (!dataTable) return;\n",
              "\n",
              "          const docLinkHtml = 'Like what you see? Visit the ' +\n",
              "            '<a target=\"_blank\" href=https://colab.research.google.com/notebooks/data_table.ipynb>data table notebook</a>'\n",
              "            + ' to learn more about interactive tables.';\n",
              "          element.innerHTML = '';\n",
              "          dataTable['output_type'] = 'display_data';\n",
              "          await google.colab.output.renderOutput(dataTable, element);\n",
              "          const docLink = document.createElement('div');\n",
              "          docLink.innerHTML = docLinkHtml;\n",
              "          element.appendChild(docLink);\n",
              "        }\n",
              "      </script>\n",
              "    </div>\n",
              "  </div>\n",
              "  "
            ],
            "text/plain": [
              "       No.       Fecha Encuesta 1. ¿Ciudad que reside?  \\\n",
              "0        1  2021-09-12 10:41:46              Guayaquil   \n",
              "1        2  2021-09-12 14:21:34              Guayaquil   \n",
              "2        3  2021-09-12 16:21:57              Guayaquil   \n",
              "3        4  2021-09-12 16:25:21              Guayaquil   \n",
              "4        5  2021-09-12 20:58:02              Guayaquil   \n",
              "...    ...                  ...                    ...   \n",
              "2868  2869  12/23/2021 23:28:08              Guayaquil   \n",
              "2869  2870  12/23/2021 23:28:15              Guayaquil   \n",
              "2870  2871  12/23/2021 23:31:59              Guayaquil   \n",
              "2871  2872  12/23/2021 23:36:07              Guayaquil   \n",
              "2872  2873  12/23/2021 23:52:27              Guayaquil   \n",
              "\n",
              "     2. Ha tenido coronavirus? 3. Seleccione la Edad 4. ¿Género?  \\\n",
              "0                           Si    Entre 26 a 64 años           M   \n",
              "1                           Si    Entre 26 a 64 años           F   \n",
              "2                           Si    Entre 18 a 25 años           F   \n",
              "3                           Si    Entre 26 a 64 años           M   \n",
              "4                           Si    Entre 26 a 64 años           F   \n",
              "...                        ...                   ...         ...   \n",
              "2868                        Si    Entre 18 a 25 años           F   \n",
              "2869                        Si    Entre 26 a 64 años           M   \n",
              "2870                        Si    Entre 26 a 64 años           M   \n",
              "2871                        Si    Entre 18 a 25 años           F   \n",
              "2872                        Si    Entre 18 a 25 años           F   \n",
              "\n",
              "     5. ¿Qué variante del Virus lo contagio? 6. ¿Fecha de contagio?  \\\n",
              "0                                       Alfa    2021-03-16 00:00:00   \n",
              "1                                       Alfa    2020-03-12 00:00:00   \n",
              "2                                    No Sabe    2020-03-19 00:00:00   \n",
              "3                                      Delta    2020-10-16 00:00:00   \n",
              "4                                    No Sabe    2020-03-30 00:00:00   \n",
              "...                                      ...                    ...   \n",
              "2868                                    Alfa    2021-02-12 00:00:00   \n",
              "2869                                   Delta    2021-03-22 00:00:00   \n",
              "2870                                    Alfa    2020-08-01 00:00:00   \n",
              "2871                                 No Sabe    2020-06-12 00:00:00   \n",
              "2872                                 No Sabe    2021-07-08 00:00:00   \n",
              "\n",
              "     7. ¿Intensidad de los sí­ntomas? 8. ¿Lugar de contagio?  \\\n",
              "0                              Fuerte                Trabajo   \n",
              "1                              Fuerte                   OTRO   \n",
              "2                                Leve     Medio de Trasporte   \n",
              "3                                Leve                 Fiesta   \n",
              "4                               Medio     Medio de Trasporte   \n",
              "...                               ...                    ...   \n",
              "2868                             Leve     Medio de Trasporte   \n",
              "2869                            Medio                Trabajo   \n",
              "2870                     Sin Sintomas                Trabajo   \n",
              "2871                     Sin Sintomas     Medio de Trasporte   \n",
              "2872                            Medio     Medio de Trasporte   \n",
              "\n",
              "      9. ¿Cuantas dosis tenia aplicadas previo a contagiarse?  \\\n",
              "0                                                     0         \n",
              "1                                                     0         \n",
              "2                                                     0         \n",
              "3                                                     1         \n",
              "4                                                     0         \n",
              "...                                                 ...         \n",
              "2868                                                  0         \n",
              "2869                                                  1         \n",
              "2870                                                  0         \n",
              "2871                                                  0         \n",
              "2872                                                  0         \n",
              "\n",
              "     10. ¿Qué vacuna recibió, previo a contagiarse?  \\\n",
              "0                                       Astrazeneca   \n",
              "1                                           Sinovac   \n",
              "2                                           Sinovac   \n",
              "3                                       Astrazeneca   \n",
              "4                    No tenia ninguna vacuna puesta   \n",
              "...                                             ...   \n",
              "2868                 No tenia ninguna vacuna puesta   \n",
              "2869                                    Astrazeneca   \n",
              "2870                 No tenia ninguna vacuna puesta   \n",
              "2871                 No tenia ninguna vacuna puesta   \n",
              "2872                 No tenia ninguna vacuna puesta   \n",
              "\n",
              "                                11. ¿Qué síntomas tuvo?  \n",
              "0     FALTA DE AIRE, PERDIDA DEL GUSTO, CANSANCIO EX...  \n",
              "1     Falta de aire, fiebre alta, mucho dolor de cuerpo  \n",
              "2     Perdida del gusto y el olfato y tos por las no...  \n",
              "3                      Problemas de respirar y malestar  \n",
              "4     Dolor de cabeza, malestar, tos, dolor de garga...  \n",
              "...                                                 ...  \n",
              "2868                         malestar y dolor de cabeza  \n",
              "2869                                     dolor muscular  \n",
              "2870                                     Ningún síntoma  \n",
              "2871                            Fiebre, dolor de cabeza  \n",
              "2872  Perdida de apetito, no tenia gusto, fiebre ent...  \n",
              "\n",
              "[2873 rows x 13 columns]"
            ]
          },
          "execution_count": 285,
          "metadata": {},
          "output_type": "execute_result"
        }
      ],
      "source": [
        "df_Síntomas.iloc[ : , 0:13]"
      ]
    },
    {
      "cell_type": "code",
      "execution_count": 286,
      "metadata": {
        "colab": {
          "base_uri": "https://localhost:8080/"
        },
        "id": "cB2c_hHIkJQI",
        "outputId": "6a9540f3-5262-4a55-9b62-2e2a81d2c0c1"
      },
      "outputs": [
        {
          "name": "stdout",
          "output_type": "stream",
          "text": [
            "<class 'pandas.core.frame.DataFrame'>\n",
            "RangeIndex: 2873 entries, 0 to 2872\n",
            "Data columns (total 73 columns):\n",
            " #   Column                                                   Non-Null Count  Dtype \n",
            "---  ------                                                   --------------  ----- \n",
            " 0   No.                                                      2873 non-null   int64 \n",
            " 1   Fecha Encuesta                                           2873 non-null   object\n",
            " 2   1. ¿Ciudad que reside?                                   2873 non-null   object\n",
            " 3   2. Ha tenido coronavirus?                                2873 non-null   object\n",
            " 4   3. Seleccione la Edad                                    2873 non-null   object\n",
            " 5   4. ¿Género?                                              2873 non-null   object\n",
            " 6   5. ¿Qué variante del Virus lo contagio?                  2873 non-null   object\n",
            " 7   6. ¿Fecha de contagio?                                   2873 non-null   object\n",
            " 8   7. ¿Intensidad de los sí­ntomas?                         2873 non-null   object\n",
            " 9   8. ¿Lugar de contagio?                                   2873 non-null   object\n",
            " 10  9. ¿Cuantas dosis tenia aplicadas previo a contagiarse?  2873 non-null   int64 \n",
            " 11  10. ¿Qué vacuna recibió, previo a contagiarse?           2873 non-null   object\n",
            " 12  11. ¿Qué síntomas tuvo?                                  2873 non-null   object\n",
            " 13  Afectación psicológica                                   2873 non-null   int64 \n",
            " 14  Alergia                                                  2873 non-null   int64 \n",
            " 15  Alucinación                                              2873 non-null   int64 \n",
            " 16  Amigdalitis                                              2873 non-null   int64 \n",
            " 17  Arritmia                                                 2873 non-null   int64 \n",
            " 18  Asintomatismo                                            2873 non-null   int64 \n",
            " 19  Colitis                                                  2873 non-null   int64 \n",
            " 20  Congestión nasal                                         2873 non-null   int64 \n",
            " 21  Conjuntivitis                                            2873 non-null   int64 \n",
            " 22  Convulsión                                               2873 non-null   int64 \n",
            " 23  Desmayo                                                  2873 non-null   int64 \n",
            " 24  Diarrea                                                  2873 non-null   int64 \n",
            " 25  Dificultad al hablar                                     2873 non-null   int64 \n",
            " 26  Dificultad para moverse                                  2873 non-null   int64 \n",
            " 27  Dificultad para Respirar                                 2873 non-null   int64 \n",
            " 28  Disgeusia                                                2873 non-null   int64 \n",
            " 29  Dolor articular                                          2873 non-null   int64 \n",
            " 30  Dolor de cabeza                                          2873 non-null   int64 \n",
            " 31  Dolor de encías                                          2873 non-null   int64 \n",
            " 32  Dolor de espalda                                         2873 non-null   int64 \n",
            " 33  Dolor de estómago                                        2873 non-null   int64 \n",
            " 34  Dolor de garganta                                        2873 non-null   int64 \n",
            " 35  Dolor de huesos                                          2873 non-null   int64 \n",
            " 36  Dolor en extremidades                                    2873 non-null   int64 \n",
            " 37  Dolor muscular                                           2873 non-null   int64 \n",
            " 38  Dolor ocular                                             2873 non-null   int64 \n",
            " 39  Dolor renal                                              2873 non-null   int64 \n",
            " 40  Dolor torácico                                           2873 non-null   int64 \n",
            " 41  Fátiga                                                   2873 non-null   int64 \n",
            " 42  Fiebre                                                   2873 non-null   int64 \n",
            " 43  Gripe                                                    2873 non-null   int64 \n",
            " 44  Hematemesis                                              2873 non-null   int64 \n",
            " 45  Hipotensión                                              2873 non-null   int64 \n",
            " 46  Insomnio                                                 2873 non-null   int64 \n",
            " 47  Malestar general                                         2873 non-null   int64 \n",
            " 48  Manchas rojas                                            2873 non-null   int64 \n",
            " 49  Mareo                                                    2873 non-null   int64 \n",
            " 50  Náusea                                                   2873 non-null   int64 \n",
            " 51  Neumoní­a                                                2873 non-null   int64 \n",
            " 52  Otalgia                                                  2873 non-null   int64 \n",
            " 53  Parálisis corporal                                       2873 non-null   int64 \n",
            " 54  Paralisis facial                                         2873 non-null   int64 \n",
            " 55  Pérdida de apetito                                       2873 non-null   int64 \n",
            " 56  Pérdida de cabello                                       2873 non-null   int64 \n",
            " 57  Pérdida de Gusto                                         2873 non-null   int64 \n",
            " 58  Pérdida de memoria                                       2873 non-null   int64 \n",
            " 59  Pérdida de Olfato                                        2873 non-null   int64 \n",
            " 60  Picazón de garganta                                      2873 non-null   int64 \n",
            " 61  Presión elevada                                          2873 non-null   int64 \n",
            " 62  Presión en el pecho                                      2873 non-null   int64 \n",
            " 63  Problema circulatorio                                    2873 non-null   int64 \n",
            " 64  Prurito                                                  2873 non-null   int64 \n",
            " 65  Resfriado                                                2873 non-null   int64 \n",
            " 66  Sarpullido                                               2873 non-null   int64 \n",
            " 67  Saturación baja al respirar                              2873 non-null   int64 \n",
            " 68  Sudoración excesiva                                      2873 non-null   int64 \n",
            " 69  Taquicardia                                              2873 non-null   int64 \n",
            " 70  Tos                                                      2873 non-null   int64 \n",
            " 71  Vómito                                                   2873 non-null   int64 \n",
            " 72  Síntomas-Normalizado                                     2873 non-null   object\n",
            "dtypes: int64(61), object(12)\n",
            "memory usage: 1.6+ MB\n"
          ]
        }
      ],
      "source": [
        "df_Síntomas.info()"
      ]
    },
    {
      "cell_type": "code",
      "execution_count": 287,
      "metadata": {
        "id": "cU_YLQNQZ3jx"
      },
      "outputs": [],
      "source": [
        "import pandas as pd\n",
        "from sklearn.preprocessing import LabelEncoder\n",
        "\n",
        "# Columnas de entrada y columnas codificadas\n",
        "columnas_entrada = ['1. ¿Ciudad que reside?', '2. Ha tenido coronavirus?', '3. Seleccione la Edad', '4. ¿Género?',\n",
        "                    '5. ¿Qué variante del Virus lo contagio?',  '7. ¿Intensidad de los sí­ntomas?',\n",
        "                    '8. ¿Lugar de contagio?']\n",
        "\n",
        "columnas_codificadas = ['ciudad_reside_le', 'tuvo_coronavirus_le', 'Edad_le', 'Género_le', 'variante_Virus_tuvo_le',\n",
        "                         'intensidad_sí­ntomas_le', 'Lugar_contagio']\n",
        "\n",
        "# Crear nuevas columnas codificadas y asignarles los valores correspondientes\n",
        "for col_entrada, col_codificada in zip(columnas_entrada, columnas_codificadas):\n",
        "    le = LabelEncoder()\n",
        "    df_Síntomas[col_codificada] = le.fit_transform(df_Síntomas[col_entrada])"
      ]
    },
    {
      "cell_type": "code",
      "execution_count": 288,
      "metadata": {
        "id": "fONm3oxSGjt5"
      },
      "outputs": [],
      "source": [
        "df_Síntomas = df_Síntomas.rename(columns={'1. ¿Ciudad que reside?': 'Ciudad_reside'})\n",
        "df_Síntomas = df_Síntomas.rename(columns={'2. Ha tenido coronavirus?': 'tuvo_COVID.19'})\n",
        "df_Síntomas = df_Síntomas.rename(columns={'3. Seleccione la Edad': 'Rango_edad'})\n",
        "df_Síntomas = df_Síntomas.rename(columns={'4. ¿Género?': 'Género'})\n",
        "df_Síntomas = df_Síntomas.rename(columns={'5. ¿Qué variante del Virus lo contagio?': 'Variante_COVID.19'})\n",
        "df_Síntomas = df_Síntomas.rename(columns={'7. ¿Intensidad de los sí­ntomas?': 'Intensidad_sí­ntomas'})\n",
        "df_Síntomas = df_Síntomas.rename(columns={'8. ¿Lugar de contagio?': 'Lugar_contagio'})"
      ]
    },
    {
      "cell_type": "code",
      "execution_count": 289,
      "metadata": {
        "id": "A_TOoPEnE5Qc"
      },
      "outputs": [],
      "source": [
        "# Renombrar la columna '9. ¿Cuantas dosis tenia aplicadas previo a contagiarse?' a 'Vacuna_recibió_antes_contagiarse'\n",
        "df_Síntomas = df_Síntomas.rename(columns={'9. ¿Cuantas dosis tenia aplicadas previo a contagiarse?': 'Vacuna_recibió_antes_contagiarse'})\n",
        "df_Síntomas = df_Síntomas.rename(columns={'6. ¿Fecha de contagio?': 'Fecha_contagio'})\n",
        "df_Síntomas = df_Síntomas.rename(columns={'10. ¿Qué vacuna recibió, previo a contagiarse?': 'vacuna_recibió_ac'})"
      ]
    },
    {
      "cell_type": "code",
      "execution_count": 290,
      "metadata": {
        "id": "p8dqfMCDNQfI"
      },
      "outputs": [],
      "source": [
        "df_Síntomas = df_Síntomas.rename(columns={'11. ¿Qué síntomas tuvo?': 'síntomas'})"
      ]
    },
    {
      "cell_type": "code",
      "execution_count": 291,
      "metadata": {
        "id": "dhPke3lPxRY8"
      },
      "outputs": [],
      "source": [
        "# Extraer el año de la columna '6. ¿Fecha de contagio?' y asignarlo a 'año_contagio'\n",
        "df_Síntomas['Fecha_contagio'] = pd.to_datetime(df_Síntomas['Fecha_contagio'], errors='coerce')\n",
        "\n",
        "# Truncar los nanosegundos a cero\n",
        "df_Síntomas['Fecha_contagio'] = df_Síntomas['Fecha_contagio'].dt.round('s')\n",
        "\n",
        "df_Síntomas['año_contagio'] = df_Síntomas['Fecha_contagio'].dt.year\n",
        "df_Síntomas['mes_contagio'] = df_Síntomas['Fecha_contagio'].dt.month\n",
        "df_Síntomas['dia_contagio'] = df_Síntomas['Fecha_contagio'].dt.day\n"
      ]
    },
    {
      "cell_type": "code",
      "execution_count": 292,
      "metadata": {
        "id": "sW6zxLFiZEMz"
      },
      "outputs": [],
      "source": [
        "#df_Síntomas['año_mes'] = df_Síntomas['año_contagio'].astype(str) + df_Síntomas['mes_contagio'].astype(str).str.zfill(2)\n",
        "\n",
        "df_Síntomas['año_mes'] = (df_Síntomas['año_contagio']*100 + df_Síntomas['mes_contagio'])"
      ]
    },
    {
      "cell_type": "code",
      "execution_count": 293,
      "metadata": {
        "colab": {
          "base_uri": "https://localhost:8080/"
        },
        "id": "eO5QhrGEeNUK",
        "outputId": "8e792079-8dfd-4095-9834-768a6df934c0"
      },
      "outputs": [
        {
          "data": {
            "text/plain": [
              "0       202103\n",
              "1       202003\n",
              "2       202003\n",
              "3       202010\n",
              "4       202003\n",
              "         ...  \n",
              "2868    202102\n",
              "2869    202103\n",
              "2870    202008\n",
              "2871    202006\n",
              "2872    202107\n",
              "Name: año_mes, Length: 2873, dtype: int64"
            ]
          },
          "execution_count": 293,
          "metadata": {},
          "output_type": "execute_result"
        }
      ],
      "source": [
        "df_Síntomas['año_mes']"
      ]
    },
    {
      "cell_type": "code",
      "execution_count": 294,
      "metadata": {
        "colab": {
          "base_uri": "https://localhost:8080/"
        },
        "id": "jrEN_mqveWcq",
        "outputId": "d7c60627-24cc-4a38-c8a5-f59ca45e6107"
      },
      "outputs": [
        {
          "name": "stdout",
          "output_type": "stream",
          "text": [
            "[202103 202003 202010 202104 202008 202012 202011 202004 201912 202101\n",
            " 202112 202102 202201 202005 202009 202110 202107 202105 202111 202007\n",
            " 202108 202209 202006 202109 202106 202001 202002 202204 202212 202202\n",
            " 202206 201911]\n"
          ]
        }
      ],
      "source": [
        "valores_distintos = df_Síntomas['año_mes'].unique()\n",
        "print(valores_distintos)"
      ]
    },
    {
      "cell_type": "code",
      "execution_count": 295,
      "metadata": {
        "colab": {
          "base_uri": "https://localhost:8080/"
        },
        "id": "P2uHTijleoX6",
        "outputId": "48443136-16ed-40bc-ef21-8fce5b5f2525"
      },
      "outputs": [
        {
          "name": "stdout",
          "output_type": "stream",
          "text": [
            "202003    324\n",
            "202004    279\n",
            "202103    226\n",
            "202104    221\n",
            "202005    202\n",
            "202105    131\n",
            "202101    122\n",
            "202007    119\n",
            "202006    116\n",
            "202102    113\n",
            "202106    111\n",
            "202010    104\n",
            "202112    104\n",
            "202107     93\n",
            "202008     88\n",
            "202012     85\n",
            "202009     84\n",
            "202108     82\n",
            "202011     73\n",
            "202111     50\n",
            "202109     45\n",
            "202110     42\n",
            "202002     30\n",
            "202001     11\n",
            "201912      9\n",
            "202209      3\n",
            "202201      1\n",
            "202204      1\n",
            "202212      1\n",
            "202202      1\n",
            "202206      1\n",
            "201911      1\n",
            "Name: año_mes, dtype: int64\n"
          ]
        }
      ],
      "source": [
        "conteo_por_tipo = df_Síntomas['año_mes'].value_counts()\n",
        "print(conteo_por_tipo)"
      ]
    },
    {
      "cell_type": "code",
      "execution_count": 296,
      "metadata": {
        "id": "9o4cAoKGc67m"
      },
      "outputs": [],
      "source": [
        "df_Síntomas['año_mes'] = df_Síntomas['año_mes'].astype(int).astype(str)"
      ]
    },
    {
      "cell_type": "code",
      "execution_count": 297,
      "metadata": {
        "colab": {
          "base_uri": "https://localhost:8080/"
        },
        "id": "RvYHM6SrbnD6",
        "outputId": "dccd36e2-1209-492c-95b6-831916aaffcb"
      },
      "outputs": [
        {
          "data": {
            "text/plain": [
              "0       202103\n",
              "1       202003\n",
              "2       202003\n",
              "3       202010\n",
              "4       202003\n",
              "         ...  \n",
              "2868    202102\n",
              "2869    202103\n",
              "2870    202008\n",
              "2871    202006\n",
              "2872    202107\n",
              "Name: año_mes, Length: 2873, dtype: object"
            ]
          },
          "execution_count": 297,
          "metadata": {},
          "output_type": "execute_result"
        }
      ],
      "source": [
        "df_Síntomas['año_mes']"
      ]
    },
    {
      "cell_type": "code",
      "execution_count": 298,
      "metadata": {
        "colab": {
          "base_uri": "https://localhost:8080/"
        },
        "id": "AdFPq0HPaZoC",
        "outputId": "02cc4d8d-1830-42f1-c1f9-cf37011783ab"
      },
      "outputs": [
        {
          "name": "stdout",
          "output_type": "stream",
          "text": [
            "<class 'pandas.core.frame.DataFrame'>\n",
            "RangeIndex: 2873 entries, 0 to 2872\n",
            "Data columns (total 84 columns):\n",
            " #   Column                            Non-Null Count  Dtype         \n",
            "---  ------                            --------------  -----         \n",
            " 0   No.                               2873 non-null   int64         \n",
            " 1   Fecha Encuesta                    2873 non-null   object        \n",
            " 2   Ciudad_reside                     2873 non-null   object        \n",
            " 3   tuvo_COVID.19                     2873 non-null   object        \n",
            " 4   Rango_edad                        2873 non-null   object        \n",
            " 5   Género                            2873 non-null   object        \n",
            " 6   Variante_COVID.19                 2873 non-null   object        \n",
            " 7   Fecha_contagio                    2873 non-null   datetime64[ns]\n",
            " 8   Intensidad_sí­ntomas              2873 non-null   object        \n",
            " 9   Lugar_contagio                    2873 non-null   object        \n",
            " 10  Vacuna_recibió_antes_contagiarse  2873 non-null   int64         \n",
            " 11  vacuna_recibió_ac                 2873 non-null   object        \n",
            " 12  síntomas                          2873 non-null   object        \n",
            " 13  Afectación psicológica            2873 non-null   int64         \n",
            " 14  Alergia                           2873 non-null   int64         \n",
            " 15  Alucinación                       2873 non-null   int64         \n",
            " 16  Amigdalitis                       2873 non-null   int64         \n",
            " 17  Arritmia                          2873 non-null   int64         \n",
            " 18  Asintomatismo                     2873 non-null   int64         \n",
            " 19  Colitis                           2873 non-null   int64         \n",
            " 20  Congestión nasal                  2873 non-null   int64         \n",
            " 21  Conjuntivitis                     2873 non-null   int64         \n",
            " 22  Convulsión                        2873 non-null   int64         \n",
            " 23  Desmayo                           2873 non-null   int64         \n",
            " 24  Diarrea                           2873 non-null   int64         \n",
            " 25  Dificultad al hablar              2873 non-null   int64         \n",
            " 26  Dificultad para moverse           2873 non-null   int64         \n",
            " 27  Dificultad para Respirar          2873 non-null   int64         \n",
            " 28  Disgeusia                         2873 non-null   int64         \n",
            " 29  Dolor articular                   2873 non-null   int64         \n",
            " 30  Dolor de cabeza                   2873 non-null   int64         \n",
            " 31  Dolor de encías                   2873 non-null   int64         \n",
            " 32  Dolor de espalda                  2873 non-null   int64         \n",
            " 33  Dolor de estómago                 2873 non-null   int64         \n",
            " 34  Dolor de garganta                 2873 non-null   int64         \n",
            " 35  Dolor de huesos                   2873 non-null   int64         \n",
            " 36  Dolor en extremidades             2873 non-null   int64         \n",
            " 37  Dolor muscular                    2873 non-null   int64         \n",
            " 38  Dolor ocular                      2873 non-null   int64         \n",
            " 39  Dolor renal                       2873 non-null   int64         \n",
            " 40  Dolor torácico                    2873 non-null   int64         \n",
            " 41  Fátiga                            2873 non-null   int64         \n",
            " 42  Fiebre                            2873 non-null   int64         \n",
            " 43  Gripe                             2873 non-null   int64         \n",
            " 44  Hematemesis                       2873 non-null   int64         \n",
            " 45  Hipotensión                       2873 non-null   int64         \n",
            " 46  Insomnio                          2873 non-null   int64         \n",
            " 47  Malestar general                  2873 non-null   int64         \n",
            " 48  Manchas rojas                     2873 non-null   int64         \n",
            " 49  Mareo                             2873 non-null   int64         \n",
            " 50  Náusea                            2873 non-null   int64         \n",
            " 51  Neumoní­a                         2873 non-null   int64         \n",
            " 52  Otalgia                           2873 non-null   int64         \n",
            " 53  Parálisis corporal                2873 non-null   int64         \n",
            " 54  Paralisis facial                  2873 non-null   int64         \n",
            " 55  Pérdida de apetito                2873 non-null   int64         \n",
            " 56  Pérdida de cabello                2873 non-null   int64         \n",
            " 57  Pérdida de Gusto                  2873 non-null   int64         \n",
            " 58  Pérdida de memoria                2873 non-null   int64         \n",
            " 59  Pérdida de Olfato                 2873 non-null   int64         \n",
            " 60  Picazón de garganta               2873 non-null   int64         \n",
            " 61  Presión elevada                   2873 non-null   int64         \n",
            " 62  Presión en el pecho               2873 non-null   int64         \n",
            " 63  Problema circulatorio             2873 non-null   int64         \n",
            " 64  Prurito                           2873 non-null   int64         \n",
            " 65  Resfriado                         2873 non-null   int64         \n",
            " 66  Sarpullido                        2873 non-null   int64         \n",
            " 67  Saturación baja al respirar       2873 non-null   int64         \n",
            " 68  Sudoración excesiva               2873 non-null   int64         \n",
            " 69  Taquicardia                       2873 non-null   int64         \n",
            " 70  Tos                               2873 non-null   int64         \n",
            " 71  Vómito                            2873 non-null   int64         \n",
            " 72  Síntomas-Normalizado              2873 non-null   object        \n",
            " 73  ciudad_reside_le                  2873 non-null   int64         \n",
            " 74  tuvo_coronavirus_le               2873 non-null   int64         \n",
            " 75  Edad_le                           2873 non-null   int64         \n",
            " 76  Género_le                         2873 non-null   int64         \n",
            " 77  variante_Virus_tuvo_le            2873 non-null   int64         \n",
            " 78  intensidad_sí­ntomas_le           2873 non-null   int64         \n",
            " 79  Lugar_contagio                    2873 non-null   int64         \n",
            " 80  año_contagio                      2873 non-null   int64         \n",
            " 81  mes_contagio                      2873 non-null   int64         \n",
            " 82  dia_contagio                      2873 non-null   int64         \n",
            " 83  año_mes                           2873 non-null   object        \n",
            "dtypes: datetime64[ns](1), int64(71), object(12)\n",
            "memory usage: 1.8+ MB\n"
          ]
        }
      ],
      "source": [
        "df_Síntomas.info()"
      ]
    },
    {
      "cell_type": "code",
      "execution_count": 299,
      "metadata": {
        "id": "VUCf1aEQZs-p"
      },
      "outputs": [],
      "source": [
        "# no soporta varios rangos, es una secuencia continua\n",
        "#df_Síntomas2 = df_Síntomas.iloc[   :  , [1:6, 8:11, 72:82]]\n",
        "\n",
        "#creo secuencia continua\n",
        "#opcion 1: df_Síntomas2 = df_Síntomas.iloc[:, [2, 3, 4, 5, 6, 8, 9, 10, 7, 11, 72, 73, 74, 75, 76, 77, 78, 79, 80, 81, 82]]\n",
        "\n",
        "#opcion 2:\n",
        "df_Síntomas2 = df_Síntomas.iloc[:, np.r_[3:6, 8:11, 7, 11, 72:82]]"
      ]
    },
    {
      "cell_type": "code",
      "execution_count": 300,
      "metadata": {
        "id": "CnDgzv03V-EJ"
      },
      "outputs": [],
      "source": [
        "# Seleccionar las columnas 'variante_Virus_tuvo_le' y 'Género_le' del DataFrame\n",
        "df_Síntomas_sc = df_Síntomas.iloc[   :  ,np.r_[4:8, 83]]"
      ]
    },
    {
      "cell_type": "code",
      "execution_count": 301,
      "metadata": {
        "colab": {
          "base_uri": "https://localhost:8080/",
          "height": 424
        },
        "id": "ndovCbKgmwac",
        "outputId": "1ab00457-83f4-43da-a4e7-6c05bf4a9d3b"
      },
      "outputs": [
        {
          "data": {
            "text/html": [
              "\n",
              "  <div id=\"df-e3d19dfb-e7d9-4e65-83da-3509aa27c211\">\n",
              "    <div class=\"colab-df-container\">\n",
              "      <div>\n",
              "<style scoped>\n",
              "    .dataframe tbody tr th:only-of-type {\n",
              "        vertical-align: middle;\n",
              "    }\n",
              "\n",
              "    .dataframe tbody tr th {\n",
              "        vertical-align: top;\n",
              "    }\n",
              "\n",
              "    .dataframe thead th {\n",
              "        text-align: right;\n",
              "    }\n",
              "</style>\n",
              "<table border=\"1\" class=\"dataframe\">\n",
              "  <thead>\n",
              "    <tr style=\"text-align: right;\">\n",
              "      <th></th>\n",
              "      <th>Rango_edad</th>\n",
              "      <th>Género</th>\n",
              "      <th>Variante_COVID.19</th>\n",
              "      <th>Fecha_contagio</th>\n",
              "      <th>año_mes</th>\n",
              "    </tr>\n",
              "  </thead>\n",
              "  <tbody>\n",
              "    <tr>\n",
              "      <th>0</th>\n",
              "      <td>Entre 26 a 64 años</td>\n",
              "      <td>M</td>\n",
              "      <td>Alfa</td>\n",
              "      <td>2021-03-16</td>\n",
              "      <td>202103</td>\n",
              "    </tr>\n",
              "    <tr>\n",
              "      <th>1</th>\n",
              "      <td>Entre 26 a 64 años</td>\n",
              "      <td>F</td>\n",
              "      <td>Alfa</td>\n",
              "      <td>2020-03-12</td>\n",
              "      <td>202003</td>\n",
              "    </tr>\n",
              "    <tr>\n",
              "      <th>2</th>\n",
              "      <td>Entre 18 a 25 años</td>\n",
              "      <td>F</td>\n",
              "      <td>No Sabe</td>\n",
              "      <td>2020-03-19</td>\n",
              "      <td>202003</td>\n",
              "    </tr>\n",
              "    <tr>\n",
              "      <th>3</th>\n",
              "      <td>Entre 26 a 64 años</td>\n",
              "      <td>M</td>\n",
              "      <td>Delta</td>\n",
              "      <td>2020-10-16</td>\n",
              "      <td>202010</td>\n",
              "    </tr>\n",
              "    <tr>\n",
              "      <th>4</th>\n",
              "      <td>Entre 26 a 64 años</td>\n",
              "      <td>F</td>\n",
              "      <td>No Sabe</td>\n",
              "      <td>2020-03-30</td>\n",
              "      <td>202003</td>\n",
              "    </tr>\n",
              "    <tr>\n",
              "      <th>...</th>\n",
              "      <td>...</td>\n",
              "      <td>...</td>\n",
              "      <td>...</td>\n",
              "      <td>...</td>\n",
              "      <td>...</td>\n",
              "    </tr>\n",
              "    <tr>\n",
              "      <th>2868</th>\n",
              "      <td>Entre 18 a 25 años</td>\n",
              "      <td>F</td>\n",
              "      <td>Alfa</td>\n",
              "      <td>2021-02-12</td>\n",
              "      <td>202102</td>\n",
              "    </tr>\n",
              "    <tr>\n",
              "      <th>2869</th>\n",
              "      <td>Entre 26 a 64 años</td>\n",
              "      <td>M</td>\n",
              "      <td>Delta</td>\n",
              "      <td>2021-03-22</td>\n",
              "      <td>202103</td>\n",
              "    </tr>\n",
              "    <tr>\n",
              "      <th>2870</th>\n",
              "      <td>Entre 26 a 64 años</td>\n",
              "      <td>M</td>\n",
              "      <td>Alfa</td>\n",
              "      <td>2020-08-01</td>\n",
              "      <td>202008</td>\n",
              "    </tr>\n",
              "    <tr>\n",
              "      <th>2871</th>\n",
              "      <td>Entre 18 a 25 años</td>\n",
              "      <td>F</td>\n",
              "      <td>No Sabe</td>\n",
              "      <td>2020-06-12</td>\n",
              "      <td>202006</td>\n",
              "    </tr>\n",
              "    <tr>\n",
              "      <th>2872</th>\n",
              "      <td>Entre 18 a 25 años</td>\n",
              "      <td>F</td>\n",
              "      <td>No Sabe</td>\n",
              "      <td>2021-07-08</td>\n",
              "      <td>202107</td>\n",
              "    </tr>\n",
              "  </tbody>\n",
              "</table>\n",
              "<p>2873 rows × 5 columns</p>\n",
              "</div>\n",
              "      <button class=\"colab-df-convert\" onclick=\"convertToInteractive('df-e3d19dfb-e7d9-4e65-83da-3509aa27c211')\"\n",
              "              title=\"Convert this dataframe to an interactive table.\"\n",
              "              style=\"display:none;\">\n",
              "        \n",
              "  <svg xmlns=\"http://www.w3.org/2000/svg\" height=\"24px\"viewBox=\"0 0 24 24\"\n",
              "       width=\"24px\">\n",
              "    <path d=\"M0 0h24v24H0V0z\" fill=\"none\"/>\n",
              "    <path d=\"M18.56 5.44l.94 2.06.94-2.06 2.06-.94-2.06-.94-.94-2.06-.94 2.06-2.06.94zm-11 1L8.5 8.5l.94-2.06 2.06-.94-2.06-.94L8.5 2.5l-.94 2.06-2.06.94zm10 10l.94 2.06.94-2.06 2.06-.94-2.06-.94-.94-2.06-.94 2.06-2.06.94z\"/><path d=\"M17.41 7.96l-1.37-1.37c-.4-.4-.92-.59-1.43-.59-.52 0-1.04.2-1.43.59L10.3 9.45l-7.72 7.72c-.78.78-.78 2.05 0 2.83L4 21.41c.39.39.9.59 1.41.59.51 0 1.02-.2 1.41-.59l7.78-7.78 2.81-2.81c.8-.78.8-2.07 0-2.86zM5.41 20L4 18.59l7.72-7.72 1.47 1.35L5.41 20z\"/>\n",
              "  </svg>\n",
              "      </button>\n",
              "      \n",
              "  <style>\n",
              "    .colab-df-container {\n",
              "      display:flex;\n",
              "      flex-wrap:wrap;\n",
              "      gap: 12px;\n",
              "    }\n",
              "\n",
              "    .colab-df-convert {\n",
              "      background-color: #E8F0FE;\n",
              "      border: none;\n",
              "      border-radius: 50%;\n",
              "      cursor: pointer;\n",
              "      display: none;\n",
              "      fill: #1967D2;\n",
              "      height: 32px;\n",
              "      padding: 0 0 0 0;\n",
              "      width: 32px;\n",
              "    }\n",
              "\n",
              "    .colab-df-convert:hover {\n",
              "      background-color: #E2EBFA;\n",
              "      box-shadow: 0px 1px 2px rgba(60, 64, 67, 0.3), 0px 1px 3px 1px rgba(60, 64, 67, 0.15);\n",
              "      fill: #174EA6;\n",
              "    }\n",
              "\n",
              "    [theme=dark] .colab-df-convert {\n",
              "      background-color: #3B4455;\n",
              "      fill: #D2E3FC;\n",
              "    }\n",
              "\n",
              "    [theme=dark] .colab-df-convert:hover {\n",
              "      background-color: #434B5C;\n",
              "      box-shadow: 0px 1px 3px 1px rgba(0, 0, 0, 0.15);\n",
              "      filter: drop-shadow(0px 1px 2px rgba(0, 0, 0, 0.3));\n",
              "      fill: #FFFFFF;\n",
              "    }\n",
              "  </style>\n",
              "\n",
              "      <script>\n",
              "        const buttonEl =\n",
              "          document.querySelector('#df-e3d19dfb-e7d9-4e65-83da-3509aa27c211 button.colab-df-convert');\n",
              "        buttonEl.style.display =\n",
              "          google.colab.kernel.accessAllowed ? 'block' : 'none';\n",
              "\n",
              "        async function convertToInteractive(key) {\n",
              "          const element = document.querySelector('#df-e3d19dfb-e7d9-4e65-83da-3509aa27c211');\n",
              "          const dataTable =\n",
              "            await google.colab.kernel.invokeFunction('convertToInteractive',\n",
              "                                                     [key], {});\n",
              "          if (!dataTable) return;\n",
              "\n",
              "          const docLinkHtml = 'Like what you see? Visit the ' +\n",
              "            '<a target=\"_blank\" href=https://colab.research.google.com/notebooks/data_table.ipynb>data table notebook</a>'\n",
              "            + ' to learn more about interactive tables.';\n",
              "          element.innerHTML = '';\n",
              "          dataTable['output_type'] = 'display_data';\n",
              "          await google.colab.output.renderOutput(dataTable, element);\n",
              "          const docLink = document.createElement('div');\n",
              "          docLink.innerHTML = docLinkHtml;\n",
              "          element.appendChild(docLink);\n",
              "        }\n",
              "      </script>\n",
              "    </div>\n",
              "  </div>\n",
              "  "
            ],
            "text/plain": [
              "              Rango_edad Género Variante_COVID.19 Fecha_contagio año_mes\n",
              "0     Entre 26 a 64 años      M              Alfa     2021-03-16  202103\n",
              "1     Entre 26 a 64 años      F              Alfa     2020-03-12  202003\n",
              "2     Entre 18 a 25 años      F           No Sabe     2020-03-19  202003\n",
              "3     Entre 26 a 64 años      M             Delta     2020-10-16  202010\n",
              "4     Entre 26 a 64 años      F           No Sabe     2020-03-30  202003\n",
              "...                  ...    ...               ...            ...     ...\n",
              "2868  Entre 18 a 25 años      F              Alfa     2021-02-12  202102\n",
              "2869  Entre 26 a 64 años      M             Delta     2021-03-22  202103\n",
              "2870  Entre 26 a 64 años      M              Alfa     2020-08-01  202008\n",
              "2871  Entre 18 a 25 años      F           No Sabe     2020-06-12  202006\n",
              "2872  Entre 18 a 25 años      F           No Sabe     2021-07-08  202107\n",
              "\n",
              "[2873 rows x 5 columns]"
            ]
          },
          "execution_count": 301,
          "metadata": {},
          "output_type": "execute_result"
        }
      ],
      "source": [
        "df_Síntomas_sc"
      ]
    },
    {
      "cell_type": "code",
      "execution_count": 302,
      "metadata": {
        "colab": {
          "base_uri": "https://localhost:8080/",
          "height": 589
        },
        "id": "82akB8DsnNRM",
        "outputId": "9bff7bce-34c3-402f-8c82-ce70b9f6e4a8"
      },
      "outputs": [
        {
          "data": {
            "image/png": "[encoded data removed]",
            "text/plain": [
              "<Figure size 1000x600 with 1 Axes>"
            ]
          },
          "metadata": {},
          "output_type": "display_data"
        }
      ],
      "source": [
        "conteo_casos = df_Síntomas_sc['año_mes'].value_counts().sort_index()\n",
        "import matplotlib.pyplot as plt\n",
        "\n",
        "# Configurar el tamaño de la figura\n",
        "plt.figure(figsize=(10, 6))\n",
        "\n",
        "# Graficar el recuento de casos por tipo de 'año_mes'\n",
        "plt.plot(conteo_casos.index, conteo_casos.values, marker='o')\n",
        "\n",
        "# Configurar los ejes y el título del gráfico\n",
        "plt.xlabel('Año-Mes')\n",
        "plt.ylabel('Total de casos reportados')\n",
        "plt.title('Total de casos reportados por tipo de año-mes')\n",
        "\n",
        "# Rotar las etiquetas del eje x para una mejor legibilidad\n",
        "plt.xticks(rotation=30)\n",
        "\n",
        "# Mostrar el gráfico\n",
        "plt.show()\n"
      ]
    },
    {
      "cell_type": "code",
      "execution_count": 315,
      "metadata": {
        "colab": {
          "base_uri": "https://localhost:8080/",
          "height": 416
        },
        "id": "A7aSQRDSpep1",
        "outputId": "4a779a9c-7733-4857-f4a6-78afff4c354f"
      },
      "outputs": [
        {
          "data": {
            "image/png": "[encoded data removed]",
            "text/plain": [
              "<Figure size 1400x400 with 1 Axes>"
            ]
          },
          "metadata": {},
          "output_type": "display_data"
        }
      ],
      "source": [
        "conteo_casos = df_Síntomas_sc['año_mes'].value_counts().sort_index()\n",
        "import matplotlib.pyplot as plt\n",
        "\n",
        "# Configurar el tamaño de la figura\n",
        "plt.figure(figsize=(14, 4))\n",
        "\n",
        "# Graficar el recuento de casos por tipo de 'año_mes'\n",
        "plt.plot(conteo_casos.index, conteo_casos.values, marker='o')\n",
        "\n",
        "# Configurar los ejes y el título del gráfico\n",
        "plt.xlabel('Año-Mes', fontsize=7)\n",
        "plt.ylabel('Cantidad de Casos', fontsize=7)\n",
        "plt.title('Casos detectados en muestra de Guayaquil contagiados entre nov-2019 a dic-2020', fontsize=10)\n",
        "\n",
        "# Rotar las etiquetas del eje x para una mejor legibilidad\n",
        "plt.xticks(rotation=30, fontsize=7)\n",
        "\n",
        "# Mostrar los valores numéricos arriba de la curva lineal con desplazamiento\n",
        "for x, y in zip(conteo_casos.index, conteo_casos.values):\n",
        "    plt.text(x, y+3, str(y), ha='center', va='bottom', fontsize=7)\n",
        "\n",
        "# Posicionar la leyenda en la esquina superior derecha\n",
        "plt.legend(['Casos'], loc='upper right')\n",
        "\n",
        "# Mostrar el gráfico\n",
        "plt.show()\n"
      ]
    },
    {
      "cell_type": "code",
      "execution_count": 309,
      "metadata": {
        "colab": {
          "base_uri": "https://localhost:8080/",
          "height": 307
        },
        "id": "SDqlf4UgXnJS",
        "outputId": "d9a2a257-d963-4703-8001-6b47dd22aee7"
      },
      "outputs": [
        {
          "data": {
            "image/png": "[encoded data removed]",
            "text/plain": [
              "<Figure size 800x300 with 4 Axes>"
            ]
          },
          "metadata": {},
          "output_type": "display_data"
        }
      ],
      "source": [
        "import seaborn as sns\n",
        "import matplotlib.pyplot as plt\n",
        "\n",
        "# Suponiendo que `train2` es tu dataframe original\n",
        "\n",
        "# Configurar el tamaño de la figura\n",
        "fig, axes = plt.subplots(1,4, figsize=(8, 3))\n",
        "\n",
        "# Iterar sobre las columnas y crear los histogramas\n",
        "for i, (column, ax) in enumerate(zip(df_Síntomas_sc.columns, axes.flatten())):\n",
        "    # Verificar si la columna es numérica o categórica\n",
        "    if df_Síntomas_sc[column].dtype == 'object':\n",
        "        # Crear un gráfico de conteo para columnas categóricas\n",
        "        sns.countplot(data=df_Síntomas_sc, x=column, ax=ax)\n",
        "    else:\n",
        "        # Crear un histograma para columnas numéricas\n",
        "        sns.histplot(data=df_Síntomas_sc, x=column, ax=ax)\n",
        "\n",
        "    # Establecer el título de la columna como etiqueta del eje y\n",
        "    ax.set_ylabel(column)\n",
        "\n",
        "# Ajustar los espacios entre los subplots\n",
        "plt.tight_layout()\n",
        "\n",
        "# Mostrar la figura\n",
        "plt.show()"
      ]
    },
    {
      "cell_type": "code",
      "execution_count": 310,
      "metadata": {
        "colab": {
          "base_uri": "https://localhost:8080/",
          "height": 171
        },
        "id": "quSVgd-vSfDC",
        "outputId": "f06a166f-bd55-4007-a5ee-0c5dfecc94f0"
      },
      "outputs": [
        {
          "data": {
            "image/png": "[encoded data removed]",
            "text/plain": [
              "<Figure size 800x300 with 3 Axes>"
            ]
          },
          "metadata": {},
          "output_type": "display_data"
        }
      ],
      "source": [
        "import seaborn as sns\n",
        "import matplotlib.pyplot as plt\n",
        "\n",
        "# Suponiendo que `train2` es tu dataframe original\n",
        "\n",
        "# Configurar el tamaño de la figura\n",
        "fig, axes = plt.subplots(1, 3, figsize=(8, 3))\n",
        "\n",
        "# Iterar sobre las columnas y crear los gráficos\n",
        "for i, (column, ax) in enumerate(zip(df_Síntomas_sc.columns, axes.flatten())):\n",
        "    # Verificar si la columna es numérica o categórica\n",
        "    if df_Síntomas_sc[column].dtype == 'object':\n",
        "        # Crear un gráfico de pastel para columnas categóricas\n",
        "        counts = df_Síntomas_sc[column].value_counts()\n",
        "        ax.pie(counts, labels=counts.index, autopct='%1.1f%%')\n",
        "        ax.set_aspect(\"equal\")  # Asegurar que el gráfico sea circular\n",
        "    else:\n",
        "        # Crear un histograma para columnas numéricas\n",
        "        sns.histplot(data=df_Síntomas_sc, x=column, ax=ax)\n",
        "\n",
        "    # Establecer el título de la columna como etiqueta del eje y\n",
        "    ax.set_ylabel(column)\n",
        "\n",
        "    # Ajustar el tamaño de la letra de las etiquetas del eje X\n",
        "    ax.set_xticklabels(ax.get_xticklabels(), fontsize=6)\n",
        "\n",
        "    # Ajustar el tamaño de la letra de las variables en los ejes X y Y\n",
        "    ax.tick_params(axis='both', which='major', labelsize=8)\n",
        "\n",
        "# Ajustar los espacios entre los subplots\n",
        "plt.tight_layout()\n",
        "\n",
        "# Mostrar la figura\n",
        "plt.show()\n"
      ]
    },
    {
      "cell_type": "code",
      "execution_count": 311,
      "metadata": {
        "colab": {
          "base_uri": "https://localhost:8080/",
          "height": 259
        },
        "id": "HleAe7mXSzsq",
        "outputId": "6cca65fe-cdb6-43ae-94bb-fc6ee947f71d"
      },
      "outputs": [
        {
          "data": {
            "image/png": "[encoded data removed]",
            "text/plain": [
              "<Figure size 900x400 with 3 Axes>"
            ]
          },
          "metadata": {},
          "output_type": "display_data"
        }
      ],
      "source": [
        "import seaborn as sns\n",
        "import matplotlib.pyplot as plt\n",
        "\n",
        "# Suponiendo que `train2` es tu dataframe original\n",
        "\n",
        "# Configurar el tamaño de la figura\n",
        "fig, axes = plt.subplots(1, 3, figsize=(9, 4))\n",
        "\n",
        "# Iterar sobre las columnas y crear los gráficos\n",
        "for i, (column, ax) in enumerate(zip(df_Síntomas_sc.columns, axes.flatten())):\n",
        "    # Verificar si la columna es numérica o categórica\n",
        "    if df_Síntomas_sc[column].dtype == 'object':\n",
        "        # Crear un gráfico de pastel para columnas categóricas\n",
        "        counts = df_Síntomas_sc[column].value_counts()\n",
        "        ax.pie(counts, labels=counts.index, autopct='%1.1f%%', textprops={'fontsize': 8})\n",
        "        ax.set_aspect(\"equal\")  # Asegurar que el gráfico sea circular\n",
        "\n",
        "        # Colocar el nombre de la variable debajo del gráfico de pastel\n",
        "        ax.set_title(column, y=-0.15, fontsize=10)\n",
        "\n",
        "    else:\n",
        "        # Crear un histograma para columnas numéricas\n",
        "        sns.histplot(data=df_Síntomas_sc, x=column, ax=ax)\n",
        "\n",
        "    # Establecer el título de la columna como etiqueta del eje y\n",
        "    ax.set_ylabel(column)\n",
        "\n",
        "    # Ajustar el tamaño de la letra de las etiquetas del eje X\n",
        "    ax.set_xticklabels(ax.get_xticklabels(), fontsize=5)\n",
        "\n",
        "    # Ajustar el tamaño de la letra de las variables en los ejes X y Y\n",
        "    ax.tick_params(axis='both', which='major', labelsize=5)\n",
        "\n",
        "# Ajustar los espacios entre los subplots\n",
        "plt.tight_layout()\n",
        "\n",
        "# Mostrar la figura\n",
        "plt.show()\n"
      ]
    }
  ],
  "metadata": {
    "accelerator": "GPU",
    "colab": {
      "gpuType": "V100",
      "provenance": []
    },
    "kernelspec": {
      "display_name": "Python 3",
      "name": "python3"
    },
    "language_info": {
      "name": "python"
    }
  },
  "nbformat": 4,
  "nbformat_minor": 0
}
