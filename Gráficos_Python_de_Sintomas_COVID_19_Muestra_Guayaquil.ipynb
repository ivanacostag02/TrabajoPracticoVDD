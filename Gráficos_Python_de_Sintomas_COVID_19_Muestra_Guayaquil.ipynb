{
  "cells": [
    {
      "attachments": {},
      "cell_type": "markdown",
      "metadata": {
        "id": "NDAzBgQj1Y2f"
      },
      "source": [
        "##**PASO 1:** DEFINICION DE LIBRERIAS A UTILIZAR"
      ]
    },
    {
      "cell_type": "code",
      "execution_count": 221,
      "metadata": {
        "id": "CNr-HceW1XXL"
      },
      "outputs": [],
      "source": [
        "import pandas as pd\n",
        "import numpy as np\n",
        "import seaborn as sns\n",
        "import re\n",
        "import string\n",
        "import nltk\n",
        "import matplotlib.pyplot as plt"
      ]
    },
    {
      "cell_type": "code",
      "execution_count": 222,
      "metadata": {
        "id": "hamYgF4oaVlk"
      },
      "outputs": [],
      "source": [
        "#variables de evaluacion de modelo\n",
        "evaluacion_metricas  = pd.DataFrame()\n",
        "tam_batch_size = 0\n",
        "tam_epochs = 0\n",
        "tam_validation_split = 0.0"
      ]
    },
    {
      "attachments": {},
      "cell_type": "markdown",
      "metadata": {
        "id": "UanUojYLSKNV"
      },
      "source": [
        "##**PASO 2:** IMPORTACION DE DATASET RECOMENDACIONES"
      ]
    },
    {
      "cell_type": "code",
      "execution_count": 223,
      "metadata": {
        "colab": {
          "base_uri": "https://localhost:8080/",
          "height": 410
        },
        "id": "9WzZo7YzSOem",
        "outputId": "af41cf82-c30a-4c40-815c-170f7cbec705"
      },
      "outputs": [
        {
          "data": {
            "text/html": [
              "\n",
              "  <div id=\"df-4025b487-2b8b-4ce8-967c-f571cbf68e19\">\n",
              "    <div class=\"colab-df-container\">\n",
              "      <div>\n",
              "<style scoped>\n",
              "    .dataframe tbody tr th:only-of-type {\n",
              "        vertical-align: middle;\n",
              "    }\n",
              "\n",
              "    .dataframe tbody tr th {\n",
              "        vertical-align: top;\n",
              "    }\n",
              "\n",
              "    .dataframe thead th {\n",
              "        text-align: right;\n",
              "    }\n",
              "</style>\n",
              "<table border=\"1\" class=\"dataframe\">\n",
              "  <thead>\n",
              "    <tr style=\"text-align: right;\">\n",
              "      <th></th>\n",
              "      <th>No.</th>\n",
              "      <th>Fecha Encuesta</th>\n",
              "      <th>1. ¿Ciudad que reside?</th>\n",
              "      <th>2. Ha tenido coronavirus?</th>\n",
              "      <th>3. Seleccione la Edad</th>\n",
              "      <th>4. ¿Género?</th>\n",
              "      <th>5. ¿Qué variante del Virus lo contagio?</th>\n",
              "      <th>6. ¿Fecha de contagio?</th>\n",
              "      <th>7. ¿Intensidad de los sí­ntomas?</th>\n",
              "      <th>8. ¿Lugar de contagio?</th>\n",
              "      <th>...</th>\n",
              "      <th>Presión en el pecho</th>\n",
              "      <th>Problema circulatorio</th>\n",
              "      <th>Prurito</th>\n",
              "      <th>Resfriado</th>\n",
              "      <th>Sarpullido</th>\n",
              "      <th>Saturación baja al respirar</th>\n",
              "      <th>Sudoración excesiva</th>\n",
              "      <th>Taquicardia</th>\n",
              "      <th>Tos</th>\n",
              "      <th>Vómito</th>\n",
              "    </tr>\n",
              "  </thead>\n",
              "  <tbody>\n",
              "    <tr>\n",
              "      <th>0</th>\n",
              "      <td>1</td>\n",
              "      <td>2021-09-12 10:41:46</td>\n",
              "      <td>Guayaquil</td>\n",
              "      <td>Si</td>\n",
              "      <td>Entre 26 a 64 años</td>\n",
              "      <td>M</td>\n",
              "      <td>Alfa</td>\n",
              "      <td>2021-03-16 00:00:00</td>\n",
              "      <td>Fuerte</td>\n",
              "      <td>Trabajo</td>\n",
              "      <td>...</td>\n",
              "      <td>0</td>\n",
              "      <td>0</td>\n",
              "      <td>0</td>\n",
              "      <td>0</td>\n",
              "      <td>0</td>\n",
              "      <td>0</td>\n",
              "      <td>0</td>\n",
              "      <td>0</td>\n",
              "      <td>0</td>\n",
              "      <td>0</td>\n",
              "    </tr>\n",
              "    <tr>\n",
              "      <th>1</th>\n",
              "      <td>2</td>\n",
              "      <td>2021-09-12 14:21:34</td>\n",
              "      <td>Guayaquil</td>\n",
              "      <td>Si</td>\n",
              "      <td>Entre 26 a 64 años</td>\n",
              "      <td>F</td>\n",
              "      <td>Alfa</td>\n",
              "      <td>2020-03-12 00:00:00</td>\n",
              "      <td>Fuerte</td>\n",
              "      <td>OTRO</td>\n",
              "      <td>...</td>\n",
              "      <td>0</td>\n",
              "      <td>0</td>\n",
              "      <td>0</td>\n",
              "      <td>0</td>\n",
              "      <td>0</td>\n",
              "      <td>0</td>\n",
              "      <td>0</td>\n",
              "      <td>0</td>\n",
              "      <td>0</td>\n",
              "      <td>0</td>\n",
              "    </tr>\n",
              "    <tr>\n",
              "      <th>2</th>\n",
              "      <td>3</td>\n",
              "      <td>2021-09-12 16:21:57</td>\n",
              "      <td>Guayaquil</td>\n",
              "      <td>Si</td>\n",
              "      <td>Entre 18 a 25 años</td>\n",
              "      <td>F</td>\n",
              "      <td>No Sabe</td>\n",
              "      <td>2020-03-19 00:00:00</td>\n",
              "      <td>Leve</td>\n",
              "      <td>Medio de Trasporte</td>\n",
              "      <td>...</td>\n",
              "      <td>0</td>\n",
              "      <td>0</td>\n",
              "      <td>0</td>\n",
              "      <td>0</td>\n",
              "      <td>0</td>\n",
              "      <td>0</td>\n",
              "      <td>0</td>\n",
              "      <td>0</td>\n",
              "      <td>1</td>\n",
              "      <td>0</td>\n",
              "    </tr>\n",
              "  </tbody>\n",
              "</table>\n",
              "<p>3 rows × 72 columns</p>\n",
              "</div>\n",
              "      <button class=\"colab-df-convert\" onclick=\"convertToInteractive('df-4025b487-2b8b-4ce8-967c-f571cbf68e19')\"\n",
              "              title=\"Convert this dataframe to an interactive table.\"\n",
              "              style=\"display:none;\">\n",
              "        \n",
              "  <svg xmlns=\"http://www.w3.org/2000/svg\" height=\"24px\"viewBox=\"0 0 24 24\"\n",
              "       width=\"24px\">\n",
              "    <path d=\"M0 0h24v24H0V0z\" fill=\"none\"/>\n",
              "    <path d=\"M18.56 5.44l.94 2.06.94-2.06 2.06-.94-2.06-.94-.94-2.06-.94 2.06-2.06.94zm-11 1L8.5 8.5l.94-2.06 2.06-.94-2.06-.94L8.5 2.5l-.94 2.06-2.06.94zm10 10l.94 2.06.94-2.06 2.06-.94-2.06-.94-.94-2.06-.94 2.06-2.06.94z\"/><path d=\"M17.41 7.96l-1.37-1.37c-.4-.4-.92-.59-1.43-.59-.52 0-1.04.2-1.43.59L10.3 9.45l-7.72 7.72c-.78.78-.78 2.05 0 2.83L4 21.41c.39.39.9.59 1.41.59.51 0 1.02-.2 1.41-.59l7.78-7.78 2.81-2.81c.8-.78.8-2.07 0-2.86zM5.41 20L4 18.59l7.72-7.72 1.47 1.35L5.41 20z\"/>\n",
              "  </svg>\n",
              "      </button>\n",
              "      \n",
              "  <style>\n",
              "    .colab-df-container {\n",
              "      display:flex;\n",
              "      flex-wrap:wrap;\n",
              "      gap: 12px;\n",
              "    }\n",
              "\n",
              "    .colab-df-convert {\n",
              "      background-color: #E8F0FE;\n",
              "      border: none;\n",
              "      border-radius: 50%;\n",
              "      cursor: pointer;\n",
              "      display: none;\n",
              "      fill: #1967D2;\n",
              "      height: 32px;\n",
              "      padding: 0 0 0 0;\n",
              "      width: 32px;\n",
              "    }\n",
              "\n",
              "    .colab-df-convert:hover {\n",
              "      background-color: #E2EBFA;\n",
              "      box-shadow: 0px 1px 2px rgba(60, 64, 67, 0.3), 0px 1px 3px 1px rgba(60, 64, 67, 0.15);\n",
              "      fill: #174EA6;\n",
              "    }\n",
              "\n",
              "    [theme=dark] .colab-df-convert {\n",
              "      background-color: #3B4455;\n",
              "      fill: #D2E3FC;\n",
              "    }\n",
              "\n",
              "    [theme=dark] .colab-df-convert:hover {\n",
              "      background-color: #434B5C;\n",
              "      box-shadow: 0px 1px 3px 1px rgba(0, 0, 0, 0.15);\n",
              "      filter: drop-shadow(0px 1px 2px rgba(0, 0, 0, 0.3));\n",
              "      fill: #FFFFFF;\n",
              "    }\n",
              "  </style>\n",
              "\n",
              "      <script>\n",
              "        const buttonEl =\n",
              "          document.querySelector('#df-4025b487-2b8b-4ce8-967c-f571cbf68e19 button.colab-df-convert');\n",
              "        buttonEl.style.display =\n",
              "          google.colab.kernel.accessAllowed ? 'block' : 'none';\n",
              "\n",
              "        async function convertToInteractive(key) {\n",
              "          const element = document.querySelector('#df-4025b487-2b8b-4ce8-967c-f571cbf68e19');\n",
              "          const dataTable =\n",
              "            await google.colab.kernel.invokeFunction('convertToInteractive',\n",
              "                                                     [key], {});\n",
              "          if (!dataTable) return;\n",
              "\n",
              "          const docLinkHtml = 'Like what you see? Visit the ' +\n",
              "            '<a target=\"_blank\" href=https://colab.research.google.com/notebooks/data_table.ipynb>data table notebook</a>'\n",
              "            + ' to learn more about interactive tables.';\n",
              "          element.innerHTML = '';\n",
              "          dataTable['output_type'] = 'display_data';\n",
              "          await google.colab.output.renderOutput(dataTable, element);\n",
              "          const docLink = document.createElement('div');\n",
              "          docLink.innerHTML = docLinkHtml;\n",
              "          element.appendChild(docLink);\n",
              "        }\n",
              "      </script>\n",
              "    </div>\n",
              "  </div>\n",
              "  "
            ],
            "text/plain": [
              "   No.       Fecha Encuesta 1. ¿Ciudad que reside? 2. Ha tenido coronavirus?  \\\n",
              "0    1  2021-09-12 10:41:46              Guayaquil                        Si   \n",
              "1    2  2021-09-12 14:21:34              Guayaquil                        Si   \n",
              "2    3  2021-09-12 16:21:57              Guayaquil                        Si   \n",
              "\n",
              "  3. Seleccione la Edad 4. ¿Género? 5. ¿Qué variante del Virus lo contagio?  \\\n",
              "0    Entre 26 a 64 años           M                                    Alfa   \n",
              "1    Entre 26 a 64 años           F                                    Alfa   \n",
              "2    Entre 18 a 25 años           F                                 No Sabe   \n",
              "\n",
              "  6. ¿Fecha de contagio? 7. ¿Intensidad de los sí­ntomas?  \\\n",
              "0    2021-03-16 00:00:00                           Fuerte   \n",
              "1    2020-03-12 00:00:00                           Fuerte   \n",
              "2    2020-03-19 00:00:00                             Leve   \n",
              "\n",
              "  8. ¿Lugar de contagio?  ...  Presión en el pecho Problema circulatorio  \\\n",
              "0                Trabajo  ...                    0                     0   \n",
              "1                   OTRO  ...                    0                     0   \n",
              "2     Medio de Trasporte  ...                    0                     0   \n",
              "\n",
              "  Prurito  Resfriado  Sarpullido  Saturación baja al respirar  \\\n",
              "0       0          0           0                            0   \n",
              "1       0          0           0                            0   \n",
              "2       0          0           0                            0   \n",
              "\n",
              "   Sudoración excesiva  Taquicardia  Tos  Vómito  \n",
              "0                    0            0    0       0  \n",
              "1                    0            0    0       0  \n",
              "2                    0            0    1       0  \n",
              "\n",
              "[3 rows x 72 columns]"
            ]
          },
          "execution_count": 223,
          "metadata": {},
          "output_type": "execute_result"
        }
      ],
      "source": [
        "#Importacion de Dataset sintomas\n",
        "df_Síntomas  = pd.read_excel(\"CORPUS_SINTOMAS_GYE_COVID19_DE_2020_A_2021.xlsx\")\n",
        "df_Síntomas.head(3)"
      ]
    },
    {
      "attachments": {},
      "cell_type": "markdown",
      "metadata": {
        "id": "82Oopx7XSZlS"
      },
      "source": [
        "##**PASO 3:** EXPLORACION DE DATOS QUE CONTIENE LA DATASET"
      ]
    },
    {
      "cell_type": "code",
      "execution_count": 224,
      "metadata": {
        "colab": {
          "base_uri": "https://localhost:8080/"
        },
        "id": "syRbs_KnSV03",
        "outputId": "df4b1c2c-b8ef-4610-f99b-9f9f681cb50f"
      },
      "outputs": [
        {
          "name": "stdout",
          "output_type": "stream",
          "text": [
            "<class 'pandas.core.frame.DataFrame'>\n",
            "RangeIndex: 2873 entries, 0 to 2872\n",
            "Data columns (total 72 columns):\n",
            " #   Column                                                   Non-Null Count  Dtype \n",
            "---  ------                                                   --------------  ----- \n",
            " 0   No.                                                      2873 non-null   int64 \n",
            " 1   Fecha Encuesta                                           2873 non-null   object\n",
            " 2   1. ¿Ciudad que reside?                                   2873 non-null   object\n",
            " 3   2. Ha tenido coronavirus?                                2873 non-null   object\n",
            " 4   3. Seleccione la Edad                                    2873 non-null   object\n",
            " 5   4. ¿Género?                                              2873 non-null   object\n",
            " 6   5. ¿Qué variante del Virus lo contagio?                  2873 non-null   object\n",
            " 7   6. ¿Fecha de contagio?                                   2873 non-null   object\n",
            " 8   7. ¿Intensidad de los sí­ntomas?                         2873 non-null   object\n",
            " 9   8. ¿Lugar de contagio?                                   2873 non-null   object\n",
            " 10  9. ¿Cuantas dosis tenia aplicadas previo a contagiarse?  2873 non-null   int64 \n",
            " 11  10. ¿Qué vacuna recibió, previo a contagiarse?           2873 non-null   object\n",
            " 12  11. ¿Qué síntomas tuvo?                                  2873 non-null   object\n",
            " 13  Afectación psicológica                                   2873 non-null   int64 \n",
            " 14  Alergia                                                  2873 non-null   int64 \n",
            " 15  Alucinación                                              2873 non-null   int64 \n",
            " 16  Amigdalitis                                              2873 non-null   int64 \n",
            " 17  Arritmia                                                 2873 non-null   int64 \n",
            " 18  Asintomatismo                                            2873 non-null   int64 \n",
            " 19  Colitis                                                  2873 non-null   int64 \n",
            " 20  Congestión nasal                                         2873 non-null   int64 \n",
            " 21  Conjuntivitis                                            2873 non-null   int64 \n",
            " 22  Convulsión                                               2873 non-null   int64 \n",
            " 23  Desmayo                                                  2873 non-null   int64 \n",
            " 24  Diarrea                                                  2873 non-null   int64 \n",
            " 25  Dificultad al hablar                                     2873 non-null   int64 \n",
            " 26  Dificultad para moverse                                  2873 non-null   int64 \n",
            " 27  Dificultad para Respirar                                 2873 non-null   int64 \n",
            " 28  Disgeusia                                                2873 non-null   int64 \n",
            " 29  Dolor articular                                          2873 non-null   int64 \n",
            " 30  Dolor de cabeza                                          2873 non-null   int64 \n",
            " 31  Dolor de encías                                          2873 non-null   int64 \n",
            " 32  Dolor de espalda                                         2873 non-null   int64 \n",
            " 33  Dolor de estómago                                        2873 non-null   int64 \n",
            " 34  Dolor de garganta                                        2873 non-null   int64 \n",
            " 35  Dolor de huesos                                          2873 non-null   int64 \n",
            " 36  Dolor en extremidades                                    2873 non-null   int64 \n",
            " 37  Dolor muscular                                           2873 non-null   int64 \n",
            " 38  Dolor ocular                                             2873 non-null   int64 \n",
            " 39  Dolor renal                                              2873 non-null   int64 \n",
            " 40  Dolor torácico                                           2873 non-null   int64 \n",
            " 41  Fátiga                                                   2873 non-null   int64 \n",
            " 42  Fiebre                                                   2873 non-null   int64 \n",
            " 43  Gripe                                                    2873 non-null   int64 \n",
            " 44  Hematemesis                                              2873 non-null   int64 \n",
            " 45  Hipotensión                                              2873 non-null   int64 \n",
            " 46  Insomnio                                                 2873 non-null   int64 \n",
            " 47  Malestar general                                         2873 non-null   int64 \n",
            " 48  Manchas rojas                                            2873 non-null   int64 \n",
            " 49  Mareo                                                    2873 non-null   int64 \n",
            " 50  Náusea                                                   2873 non-null   int64 \n",
            " 51  Neumoní­a                                                2873 non-null   int64 \n",
            " 52  Otalgia                                                  2873 non-null   int64 \n",
            " 53  Parálisis corporal                                       2873 non-null   int64 \n",
            " 54  Paralisis facial                                         2873 non-null   int64 \n",
            " 55  Pérdida de apetito                                       2873 non-null   int64 \n",
            " 56  Pérdida de cabello                                       2873 non-null   int64 \n",
            " 57  Pérdida de Gusto                                         2873 non-null   int64 \n",
            " 58  Pérdida de memoria                                       2873 non-null   int64 \n",
            " 59  Pérdida de Olfato                                        2873 non-null   int64 \n",
            " 60  Picazón de garganta                                      2873 non-null   int64 \n",
            " 61  Presión elevada                                          2873 non-null   int64 \n",
            " 62  Presión en el pecho                                      2873 non-null   int64 \n",
            " 63  Problema circulatorio                                    2873 non-null   int64 \n",
            " 64  Prurito                                                  2873 non-null   int64 \n",
            " 65  Resfriado                                                2873 non-null   int64 \n",
            " 66  Sarpullido                                               2873 non-null   int64 \n",
            " 67  Saturación baja al respirar                              2873 non-null   int64 \n",
            " 68  Sudoración excesiva                                      2873 non-null   int64 \n",
            " 69  Taquicardia                                              2873 non-null   int64 \n",
            " 70  Tos                                                      2873 non-null   int64 \n",
            " 71  Vómito                                                   2873 non-null   int64 \n",
            "dtypes: int64(61), object(11)\n",
            "memory usage: 1.6+ MB\n"
          ]
        }
      ],
      "source": [
        "#verificacion de columnas existentes y los tipos de datos que contiene\n",
        "df_Síntomas.info()"
      ]
    },
    {
      "cell_type": "code",
      "execution_count": 225,
      "metadata": {
        "colab": {
          "base_uri": "https://localhost:8080/"
        },
        "id": "VA7XtbOLS46v",
        "outputId": "ad8b456c-fe55-4e72-909e-32db9e5b34da"
      },
      "outputs": [
        {
          "data": {
            "text/plain": [
              "(2873, 72)"
            ]
          },
          "execution_count": 225,
          "metadata": {},
          "output_type": "execute_result"
        }
      ],
      "source": [
        "#verificacion de columnas y filas de la data\n",
        "df_Síntomas.shape[:]"
      ]
    },
    {
      "attachments": {},
      "cell_type": "markdown",
      "metadata": {
        "id": "XSVlwYIqag1n"
      },
      "source": [
        "###Variables Numericas"
      ]
    },
    {
      "cell_type": "code",
      "execution_count": 226,
      "metadata": {
        "id": "iJvVgvpTafV1"
      },
      "outputs": [],
      "source": [
        "#para presentar los datos numericos se usa el metodo ._get_numeric_data()\n",
        "df_Síntomas_datos_numericos= df_Síntomas._get_numeric_data()"
      ]
    },
    {
      "cell_type": "code",
      "execution_count": 227,
      "metadata": {
        "colab": {
          "base_uri": "https://localhost:8080/"
        },
        "id": "-E6pKhd9a8ym",
        "outputId": "dda4ea61-c883-48f0-f9b1-bbc448eb8c3a"
      },
      "outputs": [
        {
          "data": {
            "text/plain": [
              "61"
            ]
          },
          "execution_count": 227,
          "metadata": {},
          "output_type": "execute_result"
        }
      ],
      "source": [
        "#muestra el numero de columnas numericas\n",
        "# nota:\n",
        "# No se considera fechas y valores numericos y textos en rango ej: edad entre 26 a 40\n",
        "len(df_Síntomas_datos_numericos.axes[1])"
      ]
    },
    {
      "attachments": {},
      "cell_type": "markdown",
      "metadata": {
        "id": "eCvphVNGqBPb"
      },
      "source": [
        "###Variables Categoricas"
      ]
    },
    {
      "cell_type": "code",
      "execution_count": 228,
      "metadata": {
        "id": "J3AlGyAia9ot"
      },
      "outputs": [],
      "source": [
        "df_Síntomas_datos_categoricos = df_Síntomas.select_dtypes(exclude=['float64','float32','int32','int64'])"
      ]
    },
    {
      "cell_type": "code",
      "execution_count": 229,
      "metadata": {
        "colab": {
          "base_uri": "https://localhost:8080/"
        },
        "id": "FLAv295JbCWW",
        "outputId": "298461ec-bb66-4810-b1bd-0637703213ec"
      },
      "outputs": [
        {
          "data": {
            "text/plain": [
              "11"
            ]
          },
          "execution_count": 229,
          "metadata": {},
          "output_type": "execute_result"
        }
      ],
      "source": [
        "# muestra el numero de de categoricas\n",
        "len(df_Síntomas_datos_categoricos.axes[1])"
      ]
    },
    {
      "attachments": {},
      "cell_type": "markdown",
      "metadata": {
        "id": "yZPNZ_HNVJWO"
      },
      "source": [
        "##**PASO 4:** PREPROCESAMIENTO DE DATOS"
      ]
    },
    {
      "attachments": {},
      "cell_type": "markdown",
      "metadata": {
        "id": "3LG1WiUZZ-At"
      },
      "source": [
        "###4.1.1 EVALUACION DE CALIDAD DE DATOS\n",
        "\n"
      ]
    },
    {
      "attachments": {},
      "cell_type": "markdown",
      "metadata": {
        "id": "f7RXTiX0qZMs"
      },
      "source": [
        "####Proceso de Valores Perdidos"
      ]
    },
    {
      "cell_type": "code",
      "execution_count": 230,
      "metadata": {
        "colab": {
          "base_uri": "https://localhost:8080/"
        },
        "id": "awAN2MqrVERW",
        "outputId": "83d3aab1-090c-4741-ac0b-bce207d70d6d"
      },
      "outputs": [
        {
          "data": {
            "text/plain": [
              "0"
            ]
          },
          "execution_count": 230,
          "metadata": {},
          "output_type": "execute_result"
        }
      ],
      "source": [
        "#verificacion de variables con valores NaN\n",
        "val_NaN = df_Síntomas.isnull().any().sum()\n",
        "val_NaN"
      ]
    },
    {
      "cell_type": "code",
      "execution_count": 231,
      "metadata": {
        "colab": {
          "base_uri": "https://localhost:8080/"
        },
        "id": "ytIKj49Vb9SD",
        "outputId": "63bc89b6-f697-45c3-9461-428360ce1956"
      },
      "outputs": [
        {
          "data": {
            "text/plain": [
              "No.                            0\n",
              "Fecha Encuesta                 0\n",
              "1. ¿Ciudad que reside?         0\n",
              "2. Ha tenido coronavirus?      0\n",
              "3. Seleccione la Edad          0\n",
              "                              ..\n",
              "Saturación baja al respirar    0\n",
              "Sudoración excesiva            0\n",
              "Taquicardia                    0\n",
              "Tos                            0\n",
              "Vómito                         0\n",
              "Length: 72, dtype: int64"
            ]
          },
          "execution_count": 231,
          "metadata": {},
          "output_type": "execute_result"
        }
      ],
      "source": [
        "#número total de NaN en la Dataset.\n",
        "df_Síntomas.isnull().sum()"
      ]
    },
    {
      "attachments": {},
      "cell_type": "markdown",
      "metadata": {
        "id": "M64CLB-7r9qd"
      },
      "source": [
        "####Grafico para visualizar los valores NaN o perdidos"
      ]
    },
    {
      "attachments": {},
      "cell_type": "markdown",
      "metadata": {
        "id": "CfLNBsA-sDK9"
      },
      "source": [
        "###4.1.2 Normalización del texto de entrada"
      ]
    },
    {
      "attachments": {},
      "cell_type": "markdown",
      "metadata": {
        "id": "WVWFhG8Gc7sX"
      },
      "source": [
        "Poner el texto en minúsculas, eliminar el texto entre corchetes, eliminar la puntuación y eliminar las palabras que contienen números"
      ]
    },
    {
      "cell_type": "code",
      "execution_count": 232,
      "metadata": {
        "id": "JNk6XJ7Zrxn5"
      },
      "outputs": [],
      "source": [
        "#definicion de una funcion para cambiar datos que contengan tilde por una sin tilde,\n",
        "#convertir de mayuscula a minuscula\n",
        "#eliminacion de caracteres especiales\n",
        "def Clean_txt(text):\n",
        "    text = str(text)\n",
        "    text = text.lower()\n",
        "    text = re.sub('á', 'a', text)\n",
        "    text = re.sub('é', 'e', text)\n",
        "    text = re.sub('í', 'i', text)\n",
        "    text = re.sub('ó', 'o', text)\n",
        "    text = re.sub('ú', 'u', text)\n",
        "    text = re.sub('\\[.*?¿\\]\\%', ' ', text)\n",
        "    text = re.sub('[%s]' % re.escape(string.punctuation), ' ', text)\n",
        "    text = re.sub('\\w*\\d\\w*', '', text)\n",
        "    text = re.sub('[‘’“”…«»]', '', text)\n",
        "    text = re.sub('\\n', ' ', text)\n",
        "    text = re.sub(r'\\s+', ' ', text)\n",
        "    text = re.sub('[^a-zA-Z]', ' ', text)\n",
        "    return text"
      ]
    },
    {
      "cell_type": "code",
      "execution_count": 233,
      "metadata": {
        "id": "AfK5akRjnYYJ"
      },
      "outputs": [],
      "source": [
        "#se aplica la funcion \"limpieza_tilde\" a la columna \"10. Describa lo más detallado ¿Qué síntomas ha tenido?-SIN DEPURAR\"\n",
        "df_Síntomas[\"Síntomas-Normalizado\"] = df_Síntomas.apply(lambda x: Clean_txt( x[\"11. ¿Qué síntomas tuvo?\"]), axis=1)"
      ]
    },
    {
      "attachments": {},
      "cell_type": "markdown",
      "metadata": {
        "id": "Skv2H-hkyqIq"
      },
      "source": [
        "###4.1.3  Balaceo de los datos de Salida"
      ]
    },
    {
      "cell_type": "code",
      "execution_count": 234,
      "metadata": {
        "colab": {
          "base_uri": "https://localhost:8080/"
        },
        "id": "z-cUV4tes9cl",
        "outputId": "27988c8a-3f92-46ed-c45c-d0ce43aa4f18"
      },
      "outputs": [
        {
          "data": {
            "text/plain": [
              "Afectación psicológica           20\n",
              "Alergia                          12\n",
              "Alucinación                       2\n",
              "Amigdalitis                      14\n",
              "Arritmia                          1\n",
              "Asintomatismo                   204\n",
              "Colitis                           1\n",
              "Congestión nasal                 52\n",
              "Conjuntivitis                    12\n",
              "Convulsión                        1\n",
              "Desmayo                           6\n",
              "Diarrea                          94\n",
              "Dificultad al hablar              3\n",
              "Dificultad para moverse           6\n",
              "Dificultad para Respirar        359\n",
              "Disgeusia                         6\n",
              "Dolor articular                  69\n",
              "Dolor de cabeza                 940\n",
              "Dolor de encías                   2\n",
              "Dolor de espalda                 67\n",
              "Dolor de estómago                38\n",
              "Dolor de garganta               201\n",
              "Dolor de huesos                  89\n",
              "Dolor en extremidades             9\n",
              "Dolor muscular                  245\n",
              "Dolor ocular                     18\n",
              "Dolor renal                       2\n",
              "Dolor torácico                   31\n",
              "Fátiga                          319\n",
              "Fiebre                         1523\n",
              "Gripe                           192\n",
              "Hematemesis                       2\n",
              "Hipotensión                       4\n",
              "Insomnio                         17\n",
              "Malestar general                619\n",
              "Manchas rojas                     5\n",
              "Mareo                            68\n",
              "Náusea                           31\n",
              "Neumoní­a                         4\n",
              "Otalgia                           7\n",
              "Parálisis corporal                4\n",
              "Paralisis facial                  1\n",
              "Pérdida de apetito               94\n",
              "Pérdida de cabello                8\n",
              "Pérdida de Gusto                791\n",
              "Pérdida de memoria                2\n",
              "Pérdida de Olfato               820\n",
              "Picazón de garganta              10\n",
              "Presión elevada                   7\n",
              "Presión en el pecho              46\n",
              "Problema circulatorio             2\n",
              "Prurito                           7\n",
              "Resfriado                        10\n",
              "Sarpullido                        5\n",
              "Saturación baja al respirar       8\n",
              "Sudoración excesiva              14\n",
              "Taquicardia                      14\n",
              "Tos                             431\n",
              "dtype: int64"
            ]
          },
          "execution_count": 234,
          "metadata": {},
          "output_type": "execute_result"
        }
      ],
      "source": [
        "df_Síntomas.iloc[ : , 13:71 ].sum()"
      ]
    },
    {
      "cell_type": "code",
      "execution_count": 235,
      "metadata": {
        "id": "OcFikDlzpWBz"
      },
      "outputs": [],
      "source": [
        "sintomas_totalizado = df_Síntomas.iloc[ : , 13:71 ].sum()"
      ]
    },
    {
      "attachments": {},
      "cell_type": "markdown",
      "metadata": {
        "id": "Gyk29CFLzJpS"
      },
      "source": [
        "#### Visualización del desbalanceo de datos"
      ]
    },
    {
      "cell_type": "code",
      "execution_count": 236,
      "metadata": {
        "id": "UyMDM_0Npq41"
      },
      "outputs": [],
      "source": [
        "datos_totales_sint = df_Síntomas.iloc[ : , 13:71 ].sum()"
      ]
    },
    {
      "attachments": {},
      "cell_type": "markdown",
      "metadata": {
        "id": "Lwv4Qt5azf8N"
      },
      "source": [
        "#### Elección del 80% de datos de entrada hallando el 20% de Sintomas más mencionados"
      ]
    },
    {
      "cell_type": "code",
      "execution_count": 237,
      "metadata": {
        "id": "h8wr_Spl_jJz"
      },
      "outputs": [],
      "source": [
        "lista_col = ['Dolor de cabeza', 'Pérdida de Olfato', 'Pérdida de Gusto', 'Malestar general', 'Fiebre', 'Tos',  'Dificultad para Respirar', 'Fátiga', 'Dolor muscular', 'Asintomatismo', 'Dolor de garganta', 'Gripe']"
      ]
    },
    {
      "cell_type": "code",
      "execution_count": 238,
      "metadata": {
        "colab": {
          "base_uri": "https://localhost:8080/",
          "height": 706
        },
        "id": "Aq-pHjKcbKVZ",
        "outputId": "edb6e044-ff36-4e06-ed2d-6b98e1e36ebc"
      },
      "outputs": [
        {
          "data": {
            "image/png": "[encoded data removed]",
            "text/plain": [
              "<Figure size 500x700 with 1 Axes>"
            ]
          },
          "metadata": {},
          "output_type": "display_data"
        },
        {
          "data": {
            "text/plain": [
              "<Figure size 640x480 with 0 Axes>"
            ]
          },
          "metadata": {},
          "output_type": "display_data"
        }
      ],
      "source": [
        "import seaborn as sns\n",
        "import pandas as pd\n",
        "\n",
        "count_ages = datos_totales_sint[lista_col]\n",
        "namesbars = df_Síntomas[lista_col].columns\n",
        "\n",
        "# Ordenar los datos de manera descendente\n",
        "sorted_data = count_ages.sort_values(ascending=False)\n",
        "\n",
        "# Crear un dataframe con los datos ordenados\n",
        "df_sorted = pd.DataFrame({'Sintoma': sorted_data.index, 'Cantidad': sorted_data.values})\n",
        "\n",
        "# Definir la paleta de colores\n",
        "color_palette = sns.color_palette(\"RdYlGn\", len(df_sorted))\n",
        "\n",
        "# Crear el gráfico de barras horizontales\n",
        "plt.figure(figsize=(5, 7))\n",
        "sns.barplot(x='Cantidad', y='Sintoma', data=df_sorted, palette=color_palette)\n",
        "\n",
        "# Asignar colores a las barras según los valores\n",
        "for i, bar in enumerate(plt.gca().patches):\n",
        "    color = color_palette[i] if i < len(color_palette) else color_palette[-1]\n",
        "    bar.set_color(color)\n",
        "\n",
        "    # Agregar el valor numérico a la derecha de la barra\n",
        "    plt.text(bar.get_width(), bar.get_y() + bar.get_height() / 2, f'{int(bar.get_width()):,}', ha='left', va='center')\n",
        "\n",
        "plt.title('Periodo 2022-2023-CII')\n",
        "plt.suptitle('Habitantes de Guayaquil afectados con COVID-19', fontsize=14, fontweight='bold')\n",
        "\n",
        "plt.xlabel('Cantidad')\n",
        "plt.ylabel('Sintoma')\n",
        "\n",
        "plt.show()\n",
        "plt.savefig('Sintomas relevantes de habitantes afectados con covid19 2021-2022')\n"
      ]
    },
    {
      "attachments": {},
      "cell_type": "markdown",
      "metadata": {
        "id": "hYsO2KHbov-D"
      },
      "source": [
        "#**Analisis de Frecuencia**"
      ]
    },
    {
      "cell_type": "code",
      "execution_count": 239,
      "metadata": {
        "colab": {
          "base_uri": "https://localhost:8080/",
          "height": 448
        },
        "id": "wKc0W7cao1Nr",
        "outputId": "7fa9c9b5-efec-4063-de0f-3f85db200561"
      },
      "outputs": [
        {
          "data": {
            "text/html": [
              "\n",
              "  <div id=\"df-c82565fc-28a6-4b0d-86dd-0b3794b63b41\">\n",
              "    <div class=\"colab-df-container\">\n",
              "      <div>\n",
              "<style scoped>\n",
              "    .dataframe tbody tr th:only-of-type {\n",
              "        vertical-align: middle;\n",
              "    }\n",
              "\n",
              "    .dataframe tbody tr th {\n",
              "        vertical-align: top;\n",
              "    }\n",
              "\n",
              "    .dataframe thead th {\n",
              "        text-align: right;\n",
              "    }\n",
              "</style>\n",
              "<table border=\"1\" class=\"dataframe\">\n",
              "  <thead>\n",
              "    <tr style=\"text-align: right;\">\n",
              "      <th></th>\n",
              "      <th>No.</th>\n",
              "      <th>Fecha Encuesta</th>\n",
              "      <th>1. ¿Ciudad que reside?</th>\n",
              "      <th>2. Ha tenido coronavirus?</th>\n",
              "      <th>3. Seleccione la Edad</th>\n",
              "      <th>4. ¿Género?</th>\n",
              "      <th>5. ¿Qué variante del Virus lo contagio?</th>\n",
              "      <th>6. ¿Fecha de contagio?</th>\n",
              "      <th>7. ¿Intensidad de los sí­ntomas?</th>\n",
              "      <th>8. ¿Lugar de contagio?</th>\n",
              "      <th>9. ¿Cuantas dosis tenia aplicadas previo a contagiarse?</th>\n",
              "      <th>10. ¿Qué vacuna recibió, previo a contagiarse?</th>\n",
              "      <th>11. ¿Qué síntomas tuvo?</th>\n",
              "    </tr>\n",
              "  </thead>\n",
              "  <tbody>\n",
              "    <tr>\n",
              "      <th>0</th>\n",
              "      <td>1</td>\n",
              "      <td>2021-09-12 10:41:46</td>\n",
              "      <td>Guayaquil</td>\n",
              "      <td>Si</td>\n",
              "      <td>Entre 26 a 64 años</td>\n",
              "      <td>M</td>\n",
              "      <td>Alfa</td>\n",
              "      <td>2021-03-16 00:00:00</td>\n",
              "      <td>Fuerte</td>\n",
              "      <td>Trabajo</td>\n",
              "      <td>0</td>\n",
              "      <td>Astrazeneca</td>\n",
              "      <td>FALTA DE AIRE, PERDIDA DEL GUSTO, CANSANCIO EX...</td>\n",
              "    </tr>\n",
              "    <tr>\n",
              "      <th>1</th>\n",
              "      <td>2</td>\n",
              "      <td>2021-09-12 14:21:34</td>\n",
              "      <td>Guayaquil</td>\n",
              "      <td>Si</td>\n",
              "      <td>Entre 26 a 64 años</td>\n",
              "      <td>F</td>\n",
              "      <td>Alfa</td>\n",
              "      <td>2020-03-12 00:00:00</td>\n",
              "      <td>Fuerte</td>\n",
              "      <td>OTRO</td>\n",
              "      <td>0</td>\n",
              "      <td>Sinovac</td>\n",
              "      <td>Falta de aire, fiebre alta, mucho dolor de cuerpo</td>\n",
              "    </tr>\n",
              "    <tr>\n",
              "      <th>2</th>\n",
              "      <td>3</td>\n",
              "      <td>2021-09-12 16:21:57</td>\n",
              "      <td>Guayaquil</td>\n",
              "      <td>Si</td>\n",
              "      <td>Entre 18 a 25 años</td>\n",
              "      <td>F</td>\n",
              "      <td>No Sabe</td>\n",
              "      <td>2020-03-19 00:00:00</td>\n",
              "      <td>Leve</td>\n",
              "      <td>Medio de Trasporte</td>\n",
              "      <td>0</td>\n",
              "      <td>Sinovac</td>\n",
              "      <td>Perdida del gusto y el olfato y tos por las no...</td>\n",
              "    </tr>\n",
              "  </tbody>\n",
              "</table>\n",
              "</div>\n",
              "      <button class=\"colab-df-convert\" onclick=\"convertToInteractive('df-c82565fc-28a6-4b0d-86dd-0b3794b63b41')\"\n",
              "              title=\"Convert this dataframe to an interactive table.\"\n",
              "              style=\"display:none;\">\n",
              "        \n",
              "  <svg xmlns=\"http://www.w3.org/2000/svg\" height=\"24px\"viewBox=\"0 0 24 24\"\n",
              "       width=\"24px\">\n",
              "    <path d=\"M0 0h24v24H0V0z\" fill=\"none\"/>\n",
              "    <path d=\"M18.56 5.44l.94 2.06.94-2.06 2.06-.94-2.06-.94-.94-2.06-.94 2.06-2.06.94zm-11 1L8.5 8.5l.94-2.06 2.06-.94-2.06-.94L8.5 2.5l-.94 2.06-2.06.94zm10 10l.94 2.06.94-2.06 2.06-.94-2.06-.94-.94-2.06-.94 2.06-2.06.94z\"/><path d=\"M17.41 7.96l-1.37-1.37c-.4-.4-.92-.59-1.43-.59-.52 0-1.04.2-1.43.59L10.3 9.45l-7.72 7.72c-.78.78-.78 2.05 0 2.83L4 21.41c.39.39.9.59 1.41.59.51 0 1.02-.2 1.41-.59l7.78-7.78 2.81-2.81c.8-.78.8-2.07 0-2.86zM5.41 20L4 18.59l7.72-7.72 1.47 1.35L5.41 20z\"/>\n",
              "  </svg>\n",
              "      </button>\n",
              "      \n",
              "  <style>\n",
              "    .colab-df-container {\n",
              "      display:flex;\n",
              "      flex-wrap:wrap;\n",
              "      gap: 12px;\n",
              "    }\n",
              "\n",
              "    .colab-df-convert {\n",
              "      background-color: #E8F0FE;\n",
              "      border: none;\n",
              "      border-radius: 50%;\n",
              "      cursor: pointer;\n",
              "      display: none;\n",
              "      fill: #1967D2;\n",
              "      height: 32px;\n",
              "      padding: 0 0 0 0;\n",
              "      width: 32px;\n",
              "    }\n",
              "\n",
              "    .colab-df-convert:hover {\n",
              "      background-color: #E2EBFA;\n",
              "      box-shadow: 0px 1px 2px rgba(60, 64, 67, 0.3), 0px 1px 3px 1px rgba(60, 64, 67, 0.15);\n",
              "      fill: #174EA6;\n",
              "    }\n",
              "\n",
              "    [theme=dark] .colab-df-convert {\n",
              "      background-color: #3B4455;\n",
              "      fill: #D2E3FC;\n",
              "    }\n",
              "\n",
              "    [theme=dark] .colab-df-convert:hover {\n",
              "      background-color: #434B5C;\n",
              "      box-shadow: 0px 1px 3px 1px rgba(0, 0, 0, 0.15);\n",
              "      filter: drop-shadow(0px 1px 2px rgba(0, 0, 0, 0.3));\n",
              "      fill: #FFFFFF;\n",
              "    }\n",
              "  </style>\n",
              "\n",
              "      <script>\n",
              "        const buttonEl =\n",
              "          document.querySelector('#df-c82565fc-28a6-4b0d-86dd-0b3794b63b41 button.colab-df-convert');\n",
              "        buttonEl.style.display =\n",
              "          google.colab.kernel.accessAllowed ? 'block' : 'none';\n",
              "\n",
              "        async function convertToInteractive(key) {\n",
              "          const element = document.querySelector('#df-c82565fc-28a6-4b0d-86dd-0b3794b63b41');\n",
              "          const dataTable =\n",
              "            await google.colab.kernel.invokeFunction('convertToInteractive',\n",
              "                                                     [key], {});\n",
              "          if (!dataTable) return;\n",
              "\n",
              "          const docLinkHtml = 'Like what you see? Visit the ' +\n",
              "            '<a target=\"_blank\" href=https://colab.research.google.com/notebooks/data_table.ipynb>data table notebook</a>'\n",
              "            + ' to learn more about interactive tables.';\n",
              "          element.innerHTML = '';\n",
              "          dataTable['output_type'] = 'display_data';\n",
              "          await google.colab.output.renderOutput(dataTable, element);\n",
              "          const docLink = document.createElement('div');\n",
              "          docLink.innerHTML = docLinkHtml;\n",
              "          element.appendChild(docLink);\n",
              "        }\n",
              "      </script>\n",
              "    </div>\n",
              "  </div>\n",
              "  "
            ],
            "text/plain": [
              "   No.       Fecha Encuesta 1. ¿Ciudad que reside? 2. Ha tenido coronavirus?  \\\n",
              "0    1  2021-09-12 10:41:46              Guayaquil                        Si   \n",
              "1    2  2021-09-12 14:21:34              Guayaquil                        Si   \n",
              "2    3  2021-09-12 16:21:57              Guayaquil                        Si   \n",
              "\n",
              "  3. Seleccione la Edad 4. ¿Género? 5. ¿Qué variante del Virus lo contagio?  \\\n",
              "0    Entre 26 a 64 años           M                                    Alfa   \n",
              "1    Entre 26 a 64 años           F                                    Alfa   \n",
              "2    Entre 18 a 25 años           F                                 No Sabe   \n",
              "\n",
              "  6. ¿Fecha de contagio? 7. ¿Intensidad de los sí­ntomas?  \\\n",
              "0    2021-03-16 00:00:00                           Fuerte   \n",
              "1    2020-03-12 00:00:00                           Fuerte   \n",
              "2    2020-03-19 00:00:00                             Leve   \n",
              "\n",
              "  8. ¿Lugar de contagio?  \\\n",
              "0                Trabajo   \n",
              "1                   OTRO   \n",
              "2     Medio de Trasporte   \n",
              "\n",
              "   9. ¿Cuantas dosis tenia aplicadas previo a contagiarse?  \\\n",
              "0                                                  0         \n",
              "1                                                  0         \n",
              "2                                                  0         \n",
              "\n",
              "  10. ¿Qué vacuna recibió, previo a contagiarse?  \\\n",
              "0                                    Astrazeneca   \n",
              "1                                        Sinovac   \n",
              "2                                        Sinovac   \n",
              "\n",
              "                             11. ¿Qué síntomas tuvo?  \n",
              "0  FALTA DE AIRE, PERDIDA DEL GUSTO, CANSANCIO EX...  \n",
              "1  Falta de aire, fiebre alta, mucho dolor de cuerpo  \n",
              "2  Perdida del gusto y el olfato y tos por las no...  "
            ]
          },
          "execution_count": 239,
          "metadata": {},
          "output_type": "execute_result"
        }
      ],
      "source": [
        "df_Síntomas.iloc[ : , 0:13].head(3)"
      ]
    },
    {
      "cell_type": "code",
      "execution_count": 240,
      "metadata": {
        "id": "cU_YLQNQZ3jx"
      },
      "outputs": [],
      "source": [
        "import pandas as pd\n",
        "from sklearn.preprocessing import LabelEncoder\n",
        "\n",
        "# Columnas de entrada y columnas codificadas\n",
        "columnas_entrada = ['1. ¿Ciudad que reside?', '2. Ha tenido coronavirus?', '3. Seleccione la Edad', '4. ¿Género?',\n",
        "                    '5. ¿Qué variante del Virus lo contagio?',  '7. ¿Intensidad de los sí­ntomas?',\n",
        "                    '8. ¿Lugar de contagio?']\n",
        "\n",
        "columnas_codificadas = ['ciudad_reside_le', 'tuvo_coronavirus_le', 'Edad_le', 'Género_le', 'variante_Virus_tuvo_le',\n",
        "                         'intensidad_sí­ntomas_le', 'Lugar_contagio']\n",
        "\n",
        "# Crear nuevas columnas codificadas y asignarles los valores correspondientes\n",
        "for col_entrada, col_codificada in zip(columnas_entrada, columnas_codificadas):\n",
        "    le = LabelEncoder()\n",
        "    df_Síntomas[col_codificada] = le.fit_transform(df_Síntomas[col_entrada])"
      ]
    },
    {
      "cell_type": "code",
      "execution_count": 241,
      "metadata": {
        "id": "fONm3oxSGjt5"
      },
      "outputs": [],
      "source": [
        "df_Síntomas = df_Síntomas.rename(columns={'1. ¿Ciudad que reside?': 'Ciudad_reside'})\n",
        "df_Síntomas = df_Síntomas.rename(columns={'2. Ha tenido coronavirus?': 'tuvo_COVID.19'})\n",
        "df_Síntomas = df_Síntomas.rename(columns={'3. Seleccione la Edad': 'Rango_edad'})\n",
        "df_Síntomas = df_Síntomas.rename(columns={'4. ¿Género?': 'Género'})\n",
        "df_Síntomas = df_Síntomas.rename(columns={'5. ¿Qué variante del Virus lo contagio?': 'Variante_COVID.19'})\n",
        "df_Síntomas = df_Síntomas.rename(columns={'7. ¿Intensidad de los sí­ntomas?': 'Intensidad_sí­ntomas'})\n",
        "df_Síntomas = df_Síntomas.rename(columns={'8. ¿Lugar de contagio?': 'Lugar_contagio'})"
      ]
    },
    {
      "cell_type": "code",
      "execution_count": 242,
      "metadata": {
        "id": "A_TOoPEnE5Qc"
      },
      "outputs": [],
      "source": [
        "# Renombrar la columna '9. ¿Cuantas dosis tenia aplicadas previo a contagiarse?' a 'Vacuna_recibió_antes_contagiarse'\n",
        "df_Síntomas = df_Síntomas.rename(columns={'9. ¿Cuantas dosis tenia aplicadas previo a contagiarse?': 'Vacuna_recibió_antes_contagiarse'})\n",
        "df_Síntomas = df_Síntomas.rename(columns={'6. ¿Fecha de contagio?': 'Fecha_contagio'})\n",
        "df_Síntomas = df_Síntomas.rename(columns={'10. ¿Qué vacuna recibió, previo a contagiarse?': 'vacuna_recibió_ac'})"
      ]
    },
    {
      "cell_type": "code",
      "execution_count": 243,
      "metadata": {
        "id": "p8dqfMCDNQfI"
      },
      "outputs": [],
      "source": [
        "df_Síntomas = df_Síntomas.rename(columns={'11. ¿Qué síntomas tuvo?': 'síntomas'})"
      ]
    },
    {
      "cell_type": "code",
      "execution_count": 244,
      "metadata": {
        "id": "dhPke3lPxRY8"
      },
      "outputs": [],
      "source": [
        "# Extraer el año de la columna '6. ¿Fecha de contagio?' y asignarlo a 'año_contagio'\n",
        "df_Síntomas['Fecha_contagio'] = pd.to_datetime(df_Síntomas['Fecha_contagio'], errors='coerce')\n",
        "\n",
        "# Truncar los nanosegundos a cero\n",
        "df_Síntomas['Fecha_contagio'] = df_Síntomas['Fecha_contagio'].dt.round('s')\n",
        "\n",
        "df_Síntomas['año_contagio'] = df_Síntomas['Fecha_contagio'].dt.year\n",
        "df_Síntomas['mes_contagio'] = df_Síntomas['Fecha_contagio'].dt.month\n",
        "df_Síntomas['dia_contagio'] = df_Síntomas['Fecha_contagio'].dt.day\n"
      ]
    },
    {
      "cell_type": "code",
      "execution_count": 245,
      "metadata": {
        "id": "sW6zxLFiZEMz"
      },
      "outputs": [],
      "source": [
        "#df_Síntomas['año_mes'] = df_Síntomas['año_contagio'].astype(str) + df_Síntomas['mes_contagio'].astype(str).str.zfill(2)\n",
        "\n",
        "df_Síntomas['año_mes'] = (df_Síntomas['año_contagio']*100 + df_Síntomas['mes_contagio'])"
      ]
    },
    {
      "cell_type": "code",
      "execution_count": 246,
      "metadata": {
        "id": "9o4cAoKGc67m"
      },
      "outputs": [],
      "source": [
        "df_Síntomas['año_mes'] = df_Síntomas['año_mes'].astype(int).astype(str)"
      ]
    },
    {
      "cell_type": "code",
      "execution_count": 247,
      "metadata": {
        "id": "VUCf1aEQZs-p"
      },
      "outputs": [],
      "source": [
        "df_Síntomas2 = df_Síntomas.iloc[:, np.r_[3:6, 8:11, 7, 11, 72:82]]"
      ]
    },
    {
      "cell_type": "code",
      "execution_count": 248,
      "metadata": {
        "id": "CnDgzv03V-EJ"
      },
      "outputs": [],
      "source": [
        "# Seleccionar las columnas 'variante_Virus_tuvo_le' y 'Género_le' del DataFrame\n",
        "df_Síntomas_sc = df_Síntomas.iloc[   :  ,np.r_[4:8, 83]]"
      ]
    },
    {
      "cell_type": "code",
      "execution_count": 249,
      "metadata": {
        "colab": {
          "base_uri": "https://localhost:8080/",
          "height": 143
        },
        "id": "ndovCbKgmwac",
        "outputId": "e1c4761f-74a1-4cfa-c2ff-cb7ee41d3577"
      },
      "outputs": [
        {
          "data": {
            "text/html": [
              "\n",
              "  <div id=\"df-576f0ece-fba1-4441-987e-f2b17d7b484d\">\n",
              "    <div class=\"colab-df-container\">\n",
              "      <div>\n",
              "<style scoped>\n",
              "    .dataframe tbody tr th:only-of-type {\n",
              "        vertical-align: middle;\n",
              "    }\n",
              "\n",
              "    .dataframe tbody tr th {\n",
              "        vertical-align: top;\n",
              "    }\n",
              "\n",
              "    .dataframe thead th {\n",
              "        text-align: right;\n",
              "    }\n",
              "</style>\n",
              "<table border=\"1\" class=\"dataframe\">\n",
              "  <thead>\n",
              "    <tr style=\"text-align: right;\">\n",
              "      <th></th>\n",
              "      <th>Rango_edad</th>\n",
              "      <th>Género</th>\n",
              "      <th>Variante_COVID.19</th>\n",
              "      <th>Fecha_contagio</th>\n",
              "      <th>año_mes</th>\n",
              "    </tr>\n",
              "  </thead>\n",
              "  <tbody>\n",
              "    <tr>\n",
              "      <th>0</th>\n",
              "      <td>Entre 26 a 64 años</td>\n",
              "      <td>M</td>\n",
              "      <td>Alfa</td>\n",
              "      <td>2021-03-16</td>\n",
              "      <td>202103</td>\n",
              "    </tr>\n",
              "    <tr>\n",
              "      <th>1</th>\n",
              "      <td>Entre 26 a 64 años</td>\n",
              "      <td>F</td>\n",
              "      <td>Alfa</td>\n",
              "      <td>2020-03-12</td>\n",
              "      <td>202003</td>\n",
              "    </tr>\n",
              "    <tr>\n",
              "      <th>2</th>\n",
              "      <td>Entre 18 a 25 años</td>\n",
              "      <td>F</td>\n",
              "      <td>No Sabe</td>\n",
              "      <td>2020-03-19</td>\n",
              "      <td>202003</td>\n",
              "    </tr>\n",
              "  </tbody>\n",
              "</table>\n",
              "</div>\n",
              "      <button class=\"colab-df-convert\" onclick=\"convertToInteractive('df-576f0ece-fba1-4441-987e-f2b17d7b484d')\"\n",
              "              title=\"Convert this dataframe to an interactive table.\"\n",
              "              style=\"display:none;\">\n",
              "        \n",
              "  <svg xmlns=\"http://www.w3.org/2000/svg\" height=\"24px\"viewBox=\"0 0 24 24\"\n",
              "       width=\"24px\">\n",
              "    <path d=\"M0 0h24v24H0V0z\" fill=\"none\"/>\n",
              "    <path d=\"M18.56 5.44l.94 2.06.94-2.06 2.06-.94-2.06-.94-.94-2.06-.94 2.06-2.06.94zm-11 1L8.5 8.5l.94-2.06 2.06-.94-2.06-.94L8.5 2.5l-.94 2.06-2.06.94zm10 10l.94 2.06.94-2.06 2.06-.94-2.06-.94-.94-2.06-.94 2.06-2.06.94z\"/><path d=\"M17.41 7.96l-1.37-1.37c-.4-.4-.92-.59-1.43-.59-.52 0-1.04.2-1.43.59L10.3 9.45l-7.72 7.72c-.78.78-.78 2.05 0 2.83L4 21.41c.39.39.9.59 1.41.59.51 0 1.02-.2 1.41-.59l7.78-7.78 2.81-2.81c.8-.78.8-2.07 0-2.86zM5.41 20L4 18.59l7.72-7.72 1.47 1.35L5.41 20z\"/>\n",
              "  </svg>\n",
              "      </button>\n",
              "      \n",
              "  <style>\n",
              "    .colab-df-container {\n",
              "      display:flex;\n",
              "      flex-wrap:wrap;\n",
              "      gap: 12px;\n",
              "    }\n",
              "\n",
              "    .colab-df-convert {\n",
              "      background-color: #E8F0FE;\n",
              "      border: none;\n",
              "      border-radius: 50%;\n",
              "      cursor: pointer;\n",
              "      display: none;\n",
              "      fill: #1967D2;\n",
              "      height: 32px;\n",
              "      padding: 0 0 0 0;\n",
              "      width: 32px;\n",
              "    }\n",
              "\n",
              "    .colab-df-convert:hover {\n",
              "      background-color: #E2EBFA;\n",
              "      box-shadow: 0px 1px 2px rgba(60, 64, 67, 0.3), 0px 1px 3px 1px rgba(60, 64, 67, 0.15);\n",
              "      fill: #174EA6;\n",
              "    }\n",
              "\n",
              "    [theme=dark] .colab-df-convert {\n",
              "      background-color: #3B4455;\n",
              "      fill: #D2E3FC;\n",
              "    }\n",
              "\n",
              "    [theme=dark] .colab-df-convert:hover {\n",
              "      background-color: #434B5C;\n",
              "      box-shadow: 0px 1px 3px 1px rgba(0, 0, 0, 0.15);\n",
              "      filter: drop-shadow(0px 1px 2px rgba(0, 0, 0, 0.3));\n",
              "      fill: #FFFFFF;\n",
              "    }\n",
              "  </style>\n",
              "\n",
              "      <script>\n",
              "        const buttonEl =\n",
              "          document.querySelector('#df-576f0ece-fba1-4441-987e-f2b17d7b484d button.colab-df-convert');\n",
              "        buttonEl.style.display =\n",
              "          google.colab.kernel.accessAllowed ? 'block' : 'none';\n",
              "\n",
              "        async function convertToInteractive(key) {\n",
              "          const element = document.querySelector('#df-576f0ece-fba1-4441-987e-f2b17d7b484d');\n",
              "          const dataTable =\n",
              "            await google.colab.kernel.invokeFunction('convertToInteractive',\n",
              "                                                     [key], {});\n",
              "          if (!dataTable) return;\n",
              "\n",
              "          const docLinkHtml = 'Like what you see? Visit the ' +\n",
              "            '<a target=\"_blank\" href=https://colab.research.google.com/notebooks/data_table.ipynb>data table notebook</a>'\n",
              "            + ' to learn more about interactive tables.';\n",
              "          element.innerHTML = '';\n",
              "          dataTable['output_type'] = 'display_data';\n",
              "          await google.colab.output.renderOutput(dataTable, element);\n",
              "          const docLink = document.createElement('div');\n",
              "          docLink.innerHTML = docLinkHtml;\n",
              "          element.appendChild(docLink);\n",
              "        }\n",
              "      </script>\n",
              "    </div>\n",
              "  </div>\n",
              "  "
            ],
            "text/plain": [
              "           Rango_edad Género Variante_COVID.19 Fecha_contagio año_mes\n",
              "0  Entre 26 a 64 años      M              Alfa     2021-03-16  202103\n",
              "1  Entre 26 a 64 años      F              Alfa     2020-03-12  202003\n",
              "2  Entre 18 a 25 años      F           No Sabe     2020-03-19  202003"
            ]
          },
          "execution_count": 249,
          "metadata": {},
          "output_type": "execute_result"
        }
      ],
      "source": [
        "df_Síntomas_sc.head(3)"
      ]
    },
    {
      "cell_type": "code",
      "execution_count": 254,
      "metadata": {
        "colab": {
          "base_uri": "https://localhost:8080/",
          "height": 555
        },
        "id": "-0BgF-3U_z0e",
        "outputId": "261eeb08-e7d1-4af2-b164-da7a0224d140"
      },
      "outputs": [
        {
          "name": "stderr",
          "output_type": "stream",
          "text": [
            "<ipython-input-254-6aa6ed15fafe>:5: SettingWithCopyWarning: \n",
            "A value is trying to be set on a copy of a slice from a DataFrame.\n",
            "Try using .loc[row_indexer,col_indexer] = value instead\n",
            "\n",
            "See the caveats in the documentation: https://pandas.pydata.org/pandas-docs/stable/user_guide/indexing.html#returning-a-view-versus-a-copy\n",
            "  df_Síntomas_sc['año_mes'] = pd.to_datetime(df_Síntomas_sc['año_mes'], format='%Y%m')\n"
          ]
        },
        {
          "data": {
            "image/png": "[encoded data removed]",
            "text/plain": [
              "<Figure size 1200x400 with 1 Axes>"
            ]
          },
          "metadata": {},
          "output_type": "display_data"
        }
      ],
      "source": [
        "import pandas as pd\n",
        "import matplotlib.pyplot as plt\n",
        "\n",
        "# Convertir el campo año_mes a tipo datetime\n",
        "df_Síntomas_sc['año_mes'] = pd.to_datetime(df_Síntomas_sc['año_mes'], format='%Y%m')\n",
        "\n",
        "# Agrupar por año_mes y género y contar los casos\n",
        "conteo_casos = df_Síntomas_sc.groupby(['año_mes', 'Género']).size().unstack(fill_value=0)\n",
        "\n",
        "# Obtener los totales por año_mes\n",
        "totales = conteo_casos.sum(axis=1)\n",
        "\n",
        "# Ordenar los resultados por año_mes en forma ascendente\n",
        "totales = totales.sort_index()\n",
        "\n",
        "# Crear el gráfico lineal\n",
        "plt.figure(figsize=(12, 4))\n",
        "plt.plot(totales.index, totales.values, marker='o')\n",
        "\n",
        "# Mostrar los valores numéricos arriba de la línea con un desplazamiento\n",
        "for x, y in zip(totales.index, totales):\n",
        "    plt.text(x, y+5, str(y), ha='center', va='bottom', fontsize=7)\n",
        "\n",
        "# Configurar los ejes y el título del gráfico\n",
        "plt.xlabel('Año-Mes', fontsize=8)\n",
        "plt.ylabel('Cantidad de Casos', fontsize=8)\n",
        "plt.suptitle('Casos encontrados por mes en muestra de 2873 residentes de Guayaquil', fontsize=10, fontweight='bold')\n",
        "plt.title('Periodo nov-2019 a dic-2020', fontsize=10)\n",
        "\n",
        "# Rotar las etiquetas del eje x para una mejor legibilidad\n",
        "plt.xticks(rotation=30)\n",
        "\n",
        "# Mostrar el gráfico\n",
        "plt.show()\n"
      ]
    },
    {
      "cell_type": "code",
      "execution_count": 255,
      "metadata": {
        "colab": {
          "base_uri": "https://localhost:8080/",
          "height": 542
        },
        "id": "5h9fmXBG-aEF",
        "outputId": "a8135c05-dce2-465d-e8c0-883739253c14"
      },
      "outputs": [
        {
          "name": "stderr",
          "output_type": "stream",
          "text": [
            "<ipython-input-255-f9f8df8239d7>:5: SettingWithCopyWarning: \n",
            "A value is trying to be set on a copy of a slice from a DataFrame.\n",
            "Try using .loc[row_indexer,col_indexer] = value instead\n",
            "\n",
            "See the caveats in the documentation: https://pandas.pydata.org/pandas-docs/stable/user_guide/indexing.html#returning-a-view-versus-a-copy\n",
            "  df_Síntomas_sc['año_mes'] = pd.to_datetime(df_Síntomas_sc['año_mes'], format='%Y%m')\n"
          ]
        },
        {
          "data": {
            "image/png": "[encoded data removed]",
            "text/plain": [
              "<Figure size 1200x400 with 1 Axes>"
            ]
          },
          "metadata": {},
          "output_type": "display_data"
        }
      ],
      "source": [
        "import pandas as pd\n",
        "import matplotlib.pyplot as plt\n",
        "\n",
        "# Convertir el campo año_mes a tipo datetime\n",
        "df_Síntomas_sc['año_mes'] = pd.to_datetime(df_Síntomas_sc['año_mes'], format='%Y%m')\n",
        "\n",
        "# Agrupar por año_mes y género y contar los casos\n",
        "conteo_casos = df_Síntomas_sc.groupby(['año_mes', 'Género']).size().unstack(fill_value=0)\n",
        "\n",
        "# Obtener los totales por año_mes\n",
        "totales = conteo_casos.sum(axis=1)\n",
        "\n",
        "# Obtener los totales de mujeres por año_mes\n",
        "totales_mujeres = conteo_casos['F']\n",
        "\n",
        "# Obtener los totales de hombres por año_mes\n",
        "totales_hombres = conteo_casos['M']\n",
        "\n",
        "# Ordenar los resultados por año_mes en forma ascendente\n",
        "totales = totales.sort_index()\n",
        "totales_mujeres = totales_mujeres.sort_index()\n",
        "totales_hombres = totales_hombres.sort_index()\n",
        "\n",
        "# Crear el gráfico de áreas apiladas\n",
        "plt.figure(figsize=(12, 4))\n",
        "plt.stackplot(totales.index, totales_mujeres, totales_hombres, labels=['Mujeres', 'Hombres'], colors=['pink', 'lightblue'])\n",
        "\n",
        "# Mostrar los valores de casos totales\n",
        "for x, y in zip(totales.index, totales):\n",
        "    plt.text(x, y+3 , str(y), ha='center', va='bottom', fontsize=7)\n",
        "\n",
        "# Mostrar los valores de casos de mujeres\n",
        "for x, y in zip(totales.index, totales_mujeres):\n",
        "    plt.text(x, y-15, str(y), ha='center', va='bottom', fontsize=7)\n",
        "\n",
        "# Mostrar los valores de casos de hombres\n",
        "for x, y in zip(totales.index, totales_hombres):\n",
        "    plt.text(x, y+y*5/8, str(y), ha='center', va='bottom', fontsize=7)\n",
        "\n",
        "# Configurar los ejes y la leyenda\n",
        "plt.xlabel('Año-Mes')\n",
        "plt.ylabel('Total de casos')\n",
        "plt.title('Casos totales por género y año-mes')\n",
        "plt.legend()\n",
        "\n",
        "# Rotar las etiquetas del eje x para una mejor legibilidad\n",
        "plt.xticks(rotation=30)\n",
        "\n",
        "# Mostrar el gráfico\n",
        "plt.show()\n"
      ]
    },
    {
      "cell_type": "code",
      "execution_count": 256,
      "metadata": {
        "colab": {
          "base_uri": "https://localhost:8080/",
          "height": 259
        },
        "id": "HleAe7mXSzsq",
        "outputId": "23f5ccf7-fa8c-4b6a-fdcb-dcce15fe3a06"
      },
      "outputs": [
        {
          "data": {
            "image/png": "[encoded data removed]",
            "text/plain": [
              "<Figure size 900x400 with 3 Axes>"
            ]
          },
          "metadata": {},
          "output_type": "display_data"
        }
      ],
      "source": [
        "import seaborn as sns\n",
        "import matplotlib.pyplot as plt\n",
        "\n",
        "# Suponiendo que `train2` es tu dataframe original\n",
        "\n",
        "# Configurar el tamaño de la figura\n",
        "fig, axes = plt.subplots(1, 3, figsize=(9, 4))\n",
        "\n",
        "# Iterar sobre las columnas y crear los gráficos\n",
        "for i, (column, ax) in enumerate(zip(df_Síntomas_sc.columns, axes.flatten())):\n",
        "    # Verificar si la columna es numérica o categórica\n",
        "    if df_Síntomas_sc[column].dtype == 'object':\n",
        "        # Crear un gráfico de pastel para columnas categóricas\n",
        "        counts = df_Síntomas_sc[column].value_counts()\n",
        "        ax.pie(counts, labels=counts.index, autopct='%1.1f%%', textprops={'fontsize': 8})\n",
        "        ax.set_aspect(\"equal\")  # Asegurar que el gráfico sea circular\n",
        "\n",
        "        # Colocar el nombre de la variable debajo del gráfico de pastel\n",
        "        ax.set_title(column, y=-0.15, fontsize=10)\n",
        "\n",
        "    else:\n",
        "        # Crear un histograma para columnas numéricas\n",
        "        sns.histplot(data=df_Síntomas_sc, x=column, ax=ax)\n",
        "\n",
        "    # Establecer el título de la columna como etiqueta del eje y\n",
        "    ax.set_ylabel(column)\n",
        "\n",
        "    # Ajustar el tamaño de la letra de las etiquetas del eje X\n",
        "    ax.set_xticklabels(ax.get_xticklabels(), fontsize=5)\n",
        "\n",
        "    # Ajustar el tamaño de la letra de las variables en los ejes X y Y\n",
        "    ax.tick_params(axis='both', which='major', labelsize=5)\n",
        "\n",
        "\n",
        "# Ajustar los espacios entre los subplots\n",
        "plt.tight_layout()\n",
        "\n",
        "# Mostrar la figura\n",
        "plt.show()\n"
      ]
    }
  ],
  "metadata": {
    "accelerator": "GPU",
    "colab": {
      "gpuType": "V100",
      "provenance": []
    },
    "kernelspec": {
      "display_name": "Python 3",
      "name": "python3"
    },
    "language_info": {
      "name": "python"
    }
  },
  "nbformat": 4,
  "nbformat_minor": 0
}
